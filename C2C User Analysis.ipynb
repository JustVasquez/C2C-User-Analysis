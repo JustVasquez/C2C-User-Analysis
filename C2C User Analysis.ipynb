{
 "cells": [
  {
   "cell_type": "markdown",
   "id": "31104b6e",
   "metadata": {},
   "source": [
    "In this notebook, we will be exploring the data of a French customer-to-customer clothing company, as well as visualizing clusters extracted from this high-dimensional data. "
   ]
  },
  {
   "cell_type": "markdown",
   "id": "b4c3951c",
   "metadata": {},
   "source": [
    "# Importing Our Data and Libraries"
   ]
  },
  {
   "cell_type": "code",
   "execution_count": 1,
   "id": "7cc63629",
   "metadata": {},
   "outputs": [],
   "source": [
    "#importing our libraries\n",
    "#https://data.world/jfreex/e-commerce-users-of-a-french-c2c-fashion-store\n",
    "import pandas as pd\n",
    "import numpy as np\n",
    "import matplotlib.pyplot as plt\n",
    "import seaborn as sns\n",
    "from kneed import KneeLocator \n",
    "\n",
    "from sklearn.datasets import make_blobs\n",
    "from sklearn.cluster import KMeans\n",
    "from sklearn.metrics import silhouette_score\n",
    "from sklearn.preprocessing import StandardScaler \n",
    "from sklearn.decomposition import PCA\n",
    "#from sklearn.manifold import TSNE\n",
    "from MulticoreTSNE import MulticoreTSNE as TSNE\n",
    "from mpl_toolkits.mplot3d import Axes3D\n",
    "\n",
    "import plotly as py\n",
    "import plotly.graph_objs as go\n",
    "import plotly.express as px\n",
    "from plotly.offline import download_plotlyjs, init_notebook_mode, plot, iplot"
   ]
  },
  {
   "cell_type": "code",
   "execution_count": 2,
   "id": "ee3190a9",
   "metadata": {},
   "outputs": [],
   "source": [
    "udf = pd.read_csv('6M-0K-99K.users.dataset.public.csv')"
   ]
  },
  {
   "cell_type": "markdown",
   "id": "e1668025",
   "metadata": {},
   "source": [
    "# Data Cleaning and Feature Engineering"
   ]
  },
  {
   "cell_type": "markdown",
   "id": "5c1bfa96",
   "metadata": {},
   "source": [
    "We start our analysis by loading in and examining our user data to see if there are any null values, as well as identifying any features we can add or remove. I also create a list of the data frame's column names in case we have to reference it down the line. "
   ]
  },
  {
   "cell_type": "code",
   "execution_count": 3,
   "id": "c0cacb5f",
   "metadata": {},
   "outputs": [
    {
     "data": {
      "text/html": [
       "<div>\n",
       "<style scoped>\n",
       "    .dataframe tbody tr th:only-of-type {\n",
       "        vertical-align: middle;\n",
       "    }\n",
       "\n",
       "    .dataframe tbody tr th {\n",
       "        vertical-align: top;\n",
       "    }\n",
       "\n",
       "    .dataframe thead th {\n",
       "        text-align: right;\n",
       "    }\n",
       "</style>\n",
       "<table border=\"1\" class=\"dataframe\">\n",
       "  <thead>\n",
       "    <tr style=\"text-align: right;\">\n",
       "      <th></th>\n",
       "      <th>identifierHash</th>\n",
       "      <th>type</th>\n",
       "      <th>country</th>\n",
       "      <th>language</th>\n",
       "      <th>socialNbFollowers</th>\n",
       "      <th>socialNbFollows</th>\n",
       "      <th>socialProductsLiked</th>\n",
       "      <th>productsListed</th>\n",
       "      <th>productsSold</th>\n",
       "      <th>productsPassRate</th>\n",
       "      <th>...</th>\n",
       "      <th>civilityTitle</th>\n",
       "      <th>hasAnyApp</th>\n",
       "      <th>hasAndroidApp</th>\n",
       "      <th>hasIosApp</th>\n",
       "      <th>hasProfilePicture</th>\n",
       "      <th>daysSinceLastLogin</th>\n",
       "      <th>seniority</th>\n",
       "      <th>seniorityAsMonths</th>\n",
       "      <th>seniorityAsYears</th>\n",
       "      <th>countryCode</th>\n",
       "    </tr>\n",
       "  </thead>\n",
       "  <tbody>\n",
       "    <tr>\n",
       "      <th>0</th>\n",
       "      <td>-1097895247965112460</td>\n",
       "      <td>user</td>\n",
       "      <td>Royaume-Uni</td>\n",
       "      <td>en</td>\n",
       "      <td>147</td>\n",
       "      <td>10</td>\n",
       "      <td>77</td>\n",
       "      <td>26</td>\n",
       "      <td>174</td>\n",
       "      <td>74.0</td>\n",
       "      <td>...</td>\n",
       "      <td>mr</td>\n",
       "      <td>True</td>\n",
       "      <td>False</td>\n",
       "      <td>True</td>\n",
       "      <td>True</td>\n",
       "      <td>11</td>\n",
       "      <td>3196</td>\n",
       "      <td>106.53</td>\n",
       "      <td>8.88</td>\n",
       "      <td>gb</td>\n",
       "    </tr>\n",
       "    <tr>\n",
       "      <th>1</th>\n",
       "      <td>2347567364561867620</td>\n",
       "      <td>user</td>\n",
       "      <td>Monaco</td>\n",
       "      <td>en</td>\n",
       "      <td>167</td>\n",
       "      <td>8</td>\n",
       "      <td>2</td>\n",
       "      <td>19</td>\n",
       "      <td>170</td>\n",
       "      <td>99.0</td>\n",
       "      <td>...</td>\n",
       "      <td>mrs</td>\n",
       "      <td>True</td>\n",
       "      <td>False</td>\n",
       "      <td>True</td>\n",
       "      <td>True</td>\n",
       "      <td>12</td>\n",
       "      <td>3204</td>\n",
       "      <td>106.80</td>\n",
       "      <td>8.90</td>\n",
       "      <td>mc</td>\n",
       "    </tr>\n",
       "    <tr>\n",
       "      <th>2</th>\n",
       "      <td>6870940546848049750</td>\n",
       "      <td>user</td>\n",
       "      <td>France</td>\n",
       "      <td>fr</td>\n",
       "      <td>137</td>\n",
       "      <td>13</td>\n",
       "      <td>60</td>\n",
       "      <td>33</td>\n",
       "      <td>163</td>\n",
       "      <td>94.0</td>\n",
       "      <td>...</td>\n",
       "      <td>mrs</td>\n",
       "      <td>True</td>\n",
       "      <td>False</td>\n",
       "      <td>True</td>\n",
       "      <td>False</td>\n",
       "      <td>11</td>\n",
       "      <td>3203</td>\n",
       "      <td>106.77</td>\n",
       "      <td>8.90</td>\n",
       "      <td>fr</td>\n",
       "    </tr>\n",
       "    <tr>\n",
       "      <th>3</th>\n",
       "      <td>-4640272621319568052</td>\n",
       "      <td>user</td>\n",
       "      <td>Etats-Unis</td>\n",
       "      <td>en</td>\n",
       "      <td>131</td>\n",
       "      <td>10</td>\n",
       "      <td>14</td>\n",
       "      <td>122</td>\n",
       "      <td>152</td>\n",
       "      <td>92.0</td>\n",
       "      <td>...</td>\n",
       "      <td>mrs</td>\n",
       "      <td>True</td>\n",
       "      <td>False</td>\n",
       "      <td>True</td>\n",
       "      <td>False</td>\n",
       "      <td>12</td>\n",
       "      <td>3198</td>\n",
       "      <td>106.60</td>\n",
       "      <td>8.88</td>\n",
       "      <td>us</td>\n",
       "    </tr>\n",
       "    <tr>\n",
       "      <th>4</th>\n",
       "      <td>-5175830994878542658</td>\n",
       "      <td>user</td>\n",
       "      <td>Etats-Unis</td>\n",
       "      <td>en</td>\n",
       "      <td>167</td>\n",
       "      <td>8</td>\n",
       "      <td>0</td>\n",
       "      <td>25</td>\n",
       "      <td>125</td>\n",
       "      <td>100.0</td>\n",
       "      <td>...</td>\n",
       "      <td>mrs</td>\n",
       "      <td>False</td>\n",
       "      <td>False</td>\n",
       "      <td>False</td>\n",
       "      <td>True</td>\n",
       "      <td>22</td>\n",
       "      <td>2854</td>\n",
       "      <td>95.13</td>\n",
       "      <td>7.93</td>\n",
       "      <td>us</td>\n",
       "    </tr>\n",
       "  </tbody>\n",
       "</table>\n",
       "<p>5 rows × 24 columns</p>\n",
       "</div>"
      ],
      "text/plain": [
       "        identifierHash  type      country language  socialNbFollowers  \\\n",
       "0 -1097895247965112460  user  Royaume-Uni       en                147   \n",
       "1  2347567364561867620  user       Monaco       en                167   \n",
       "2  6870940546848049750  user       France       fr                137   \n",
       "3 -4640272621319568052  user   Etats-Unis       en                131   \n",
       "4 -5175830994878542658  user   Etats-Unis       en                167   \n",
       "\n",
       "   socialNbFollows  socialProductsLiked  productsListed  productsSold  \\\n",
       "0               10                   77              26           174   \n",
       "1                8                    2              19           170   \n",
       "2               13                   60              33           163   \n",
       "3               10                   14             122           152   \n",
       "4                8                    0              25           125   \n",
       "\n",
       "   productsPassRate  ...  civilityTitle  hasAnyApp hasAndroidApp  hasIosApp  \\\n",
       "0              74.0  ...             mr       True         False       True   \n",
       "1              99.0  ...            mrs       True         False       True   \n",
       "2              94.0  ...            mrs       True         False       True   \n",
       "3              92.0  ...            mrs       True         False       True   \n",
       "4             100.0  ...            mrs      False         False      False   \n",
       "\n",
       "  hasProfilePicture  daysSinceLastLogin  seniority  seniorityAsMonths  \\\n",
       "0              True                  11       3196             106.53   \n",
       "1              True                  12       3204             106.80   \n",
       "2             False                  11       3203             106.77   \n",
       "3             False                  12       3198             106.60   \n",
       "4              True                  22       2854              95.13   \n",
       "\n",
       "   seniorityAsYears  countryCode  \n",
       "0              8.88           gb  \n",
       "1              8.90           mc  \n",
       "2              8.90           fr  \n",
       "3              8.88           us  \n",
       "4              7.93           us  \n",
       "\n",
       "[5 rows x 24 columns]"
      ]
     },
     "execution_count": 3,
     "metadata": {},
     "output_type": "execute_result"
    }
   ],
   "source": [
    "udf_cols = list(udf.columns)\n",
    "udf.head()"
   ]
  },
  {
   "cell_type": "code",
   "execution_count": 4,
   "id": "4b728317",
   "metadata": {},
   "outputs": [
    {
     "data": {
      "text/plain": [
       "(98913, 24)"
      ]
     },
     "execution_count": 4,
     "metadata": {},
     "output_type": "execute_result"
    }
   ],
   "source": [
    "udf.shape"
   ]
  },
  {
   "cell_type": "markdown",
   "id": "bab6ca72",
   "metadata": {},
   "source": [
    "We see that our data frame contains 98,913 users x 24 features. There are also several columns that are redundant or simply not useful for us which we will remove later on. "
   ]
  },
  {
   "cell_type": "markdown",
   "id": "58edeb59",
   "metadata": {},
   "source": [
    "Taking a quick look at the data, we see that the average user is likely a female that has been using the platform for about 8.5 years. Socially, they have fewer than 4 followers and also follow about 8 people. Most users are also not active sellers, with the averages being 0.09 and 0.12 products listed and sold respectively. By comparison, it looks like users are generally window shoppers as they have 1-2 products on their wishlists while averaging less than 1 product purchase."
   ]
  },
  {
   "cell_type": "code",
   "execution_count": 5,
   "id": "fb8c0ed7",
   "metadata": {},
   "outputs": [
    {
     "data": {
      "text/html": [
       "<div>\n",
       "<style scoped>\n",
       "    .dataframe tbody tr th:only-of-type {\n",
       "        vertical-align: middle;\n",
       "    }\n",
       "\n",
       "    .dataframe tbody tr th {\n",
       "        vertical-align: top;\n",
       "    }\n",
       "\n",
       "    .dataframe thead th {\n",
       "        text-align: right;\n",
       "    }\n",
       "</style>\n",
       "<table border=\"1\" class=\"dataframe\">\n",
       "  <thead>\n",
       "    <tr style=\"text-align: right;\">\n",
       "      <th></th>\n",
       "      <th>identifierHash</th>\n",
       "      <th>socialNbFollowers</th>\n",
       "      <th>socialNbFollows</th>\n",
       "      <th>socialProductsLiked</th>\n",
       "      <th>productsListed</th>\n",
       "      <th>productsSold</th>\n",
       "      <th>productsPassRate</th>\n",
       "      <th>productsWished</th>\n",
       "      <th>productsBought</th>\n",
       "      <th>civilityGenderId</th>\n",
       "      <th>daysSinceLastLogin</th>\n",
       "      <th>seniority</th>\n",
       "      <th>seniorityAsMonths</th>\n",
       "      <th>seniorityAsYears</th>\n",
       "    </tr>\n",
       "  </thead>\n",
       "  <tbody>\n",
       "    <tr>\n",
       "      <th>count</th>\n",
       "      <td>9.891300e+04</td>\n",
       "      <td>98913.000000</td>\n",
       "      <td>98913.000000</td>\n",
       "      <td>98913.000000</td>\n",
       "      <td>98913.000000</td>\n",
       "      <td>98913.000000</td>\n",
       "      <td>98913.000000</td>\n",
       "      <td>98913.000000</td>\n",
       "      <td>98913.000000</td>\n",
       "      <td>98913.000000</td>\n",
       "      <td>98913.000000</td>\n",
       "      <td>98913.000000</td>\n",
       "      <td>98913.000000</td>\n",
       "      <td>98913.000000</td>\n",
       "    </tr>\n",
       "    <tr>\n",
       "      <th>mean</th>\n",
       "      <td>-6.692039e+15</td>\n",
       "      <td>3.432269</td>\n",
       "      <td>8.425677</td>\n",
       "      <td>4.420743</td>\n",
       "      <td>0.093304</td>\n",
       "      <td>0.121592</td>\n",
       "      <td>0.812303</td>\n",
       "      <td>1.562595</td>\n",
       "      <td>0.171929</td>\n",
       "      <td>1.773993</td>\n",
       "      <td>581.291236</td>\n",
       "      <td>3063.771870</td>\n",
       "      <td>102.125583</td>\n",
       "      <td>8.510424</td>\n",
       "    </tr>\n",
       "    <tr>\n",
       "      <th>std</th>\n",
       "      <td>5.330807e+18</td>\n",
       "      <td>3.882383</td>\n",
       "      <td>52.839572</td>\n",
       "      <td>181.030569</td>\n",
       "      <td>2.050144</td>\n",
       "      <td>2.126895</td>\n",
       "      <td>8.500205</td>\n",
       "      <td>25.192793</td>\n",
       "      <td>2.332266</td>\n",
       "      <td>0.428679</td>\n",
       "      <td>208.855888</td>\n",
       "      <td>168.298621</td>\n",
       "      <td>5.609735</td>\n",
       "      <td>0.467863</td>\n",
       "    </tr>\n",
       "    <tr>\n",
       "      <th>min</th>\n",
       "      <td>-9.223101e+18</td>\n",
       "      <td>3.000000</td>\n",
       "      <td>0.000000</td>\n",
       "      <td>0.000000</td>\n",
       "      <td>0.000000</td>\n",
       "      <td>0.000000</td>\n",
       "      <td>0.000000</td>\n",
       "      <td>0.000000</td>\n",
       "      <td>0.000000</td>\n",
       "      <td>1.000000</td>\n",
       "      <td>11.000000</td>\n",
       "      <td>2852.000000</td>\n",
       "      <td>95.070000</td>\n",
       "      <td>7.920000</td>\n",
       "    </tr>\n",
       "    <tr>\n",
       "      <th>25%</th>\n",
       "      <td>-4.622895e+18</td>\n",
       "      <td>3.000000</td>\n",
       "      <td>8.000000</td>\n",
       "      <td>0.000000</td>\n",
       "      <td>0.000000</td>\n",
       "      <td>0.000000</td>\n",
       "      <td>0.000000</td>\n",
       "      <td>0.000000</td>\n",
       "      <td>0.000000</td>\n",
       "      <td>2.000000</td>\n",
       "      <td>572.000000</td>\n",
       "      <td>2857.000000</td>\n",
       "      <td>95.230000</td>\n",
       "      <td>7.940000</td>\n",
       "    </tr>\n",
       "    <tr>\n",
       "      <th>50%</th>\n",
       "      <td>-1.337989e+15</td>\n",
       "      <td>3.000000</td>\n",
       "      <td>8.000000</td>\n",
       "      <td>0.000000</td>\n",
       "      <td>0.000000</td>\n",
       "      <td>0.000000</td>\n",
       "      <td>0.000000</td>\n",
       "      <td>0.000000</td>\n",
       "      <td>0.000000</td>\n",
       "      <td>2.000000</td>\n",
       "      <td>694.000000</td>\n",
       "      <td>3196.000000</td>\n",
       "      <td>106.530000</td>\n",
       "      <td>8.880000</td>\n",
       "    </tr>\n",
       "    <tr>\n",
       "      <th>75%</th>\n",
       "      <td>4.616388e+18</td>\n",
       "      <td>3.000000</td>\n",
       "      <td>8.000000</td>\n",
       "      <td>0.000000</td>\n",
       "      <td>0.000000</td>\n",
       "      <td>0.000000</td>\n",
       "      <td>0.000000</td>\n",
       "      <td>0.000000</td>\n",
       "      <td>0.000000</td>\n",
       "      <td>2.000000</td>\n",
       "      <td>702.000000</td>\n",
       "      <td>3201.000000</td>\n",
       "      <td>106.700000</td>\n",
       "      <td>8.890000</td>\n",
       "    </tr>\n",
       "    <tr>\n",
       "      <th>max</th>\n",
       "      <td>9.223331e+18</td>\n",
       "      <td>744.000000</td>\n",
       "      <td>13764.000000</td>\n",
       "      <td>51671.000000</td>\n",
       "      <td>244.000000</td>\n",
       "      <td>174.000000</td>\n",
       "      <td>100.000000</td>\n",
       "      <td>2635.000000</td>\n",
       "      <td>405.000000</td>\n",
       "      <td>3.000000</td>\n",
       "      <td>709.000000</td>\n",
       "      <td>3205.000000</td>\n",
       "      <td>106.830000</td>\n",
       "      <td>8.900000</td>\n",
       "    </tr>\n",
       "  </tbody>\n",
       "</table>\n",
       "</div>"
      ],
      "text/plain": [
       "       identifierHash  socialNbFollowers  socialNbFollows  \\\n",
       "count    9.891300e+04       98913.000000     98913.000000   \n",
       "mean    -6.692039e+15           3.432269         8.425677   \n",
       "std      5.330807e+18           3.882383        52.839572   \n",
       "min     -9.223101e+18           3.000000         0.000000   \n",
       "25%     -4.622895e+18           3.000000         8.000000   \n",
       "50%     -1.337989e+15           3.000000         8.000000   \n",
       "75%      4.616388e+18           3.000000         8.000000   \n",
       "max      9.223331e+18         744.000000     13764.000000   \n",
       "\n",
       "       socialProductsLiked  productsListed  productsSold  productsPassRate  \\\n",
       "count         98913.000000    98913.000000  98913.000000      98913.000000   \n",
       "mean              4.420743        0.093304      0.121592          0.812303   \n",
       "std             181.030569        2.050144      2.126895          8.500205   \n",
       "min               0.000000        0.000000      0.000000          0.000000   \n",
       "25%               0.000000        0.000000      0.000000          0.000000   \n",
       "50%               0.000000        0.000000      0.000000          0.000000   \n",
       "75%               0.000000        0.000000      0.000000          0.000000   \n",
       "max           51671.000000      244.000000    174.000000        100.000000   \n",
       "\n",
       "       productsWished  productsBought  civilityGenderId  daysSinceLastLogin  \\\n",
       "count    98913.000000    98913.000000      98913.000000        98913.000000   \n",
       "mean         1.562595        0.171929          1.773993          581.291236   \n",
       "std         25.192793        2.332266          0.428679          208.855888   \n",
       "min          0.000000        0.000000          1.000000           11.000000   \n",
       "25%          0.000000        0.000000          2.000000          572.000000   \n",
       "50%          0.000000        0.000000          2.000000          694.000000   \n",
       "75%          0.000000        0.000000          2.000000          702.000000   \n",
       "max       2635.000000      405.000000          3.000000          709.000000   \n",
       "\n",
       "          seniority  seniorityAsMonths  seniorityAsYears  \n",
       "count  98913.000000       98913.000000      98913.000000  \n",
       "mean    3063.771870         102.125583          8.510424  \n",
       "std      168.298621           5.609735          0.467863  \n",
       "min     2852.000000          95.070000          7.920000  \n",
       "25%     2857.000000          95.230000          7.940000  \n",
       "50%     3196.000000         106.530000          8.880000  \n",
       "75%     3201.000000         106.700000          8.890000  \n",
       "max     3205.000000         106.830000          8.900000  "
      ]
     },
     "execution_count": 5,
     "metadata": {},
     "output_type": "execute_result"
    }
   ],
   "source": [
    "udf.describe()"
   ]
  },
  {
   "cell_type": "markdown",
   "id": "8f70c370",
   "metadata": {},
   "source": [
    "We also see that there are no null values which means we do not have to worry about dropping rows or columns due to incomplete data. "
   ]
  },
  {
   "cell_type": "code",
   "execution_count": 6,
   "id": "3268c22b",
   "metadata": {},
   "outputs": [
    {
     "name": "stdout",
     "output_type": "stream",
     "text": [
      "<class 'pandas.core.frame.DataFrame'>\n",
      "RangeIndex: 98913 entries, 0 to 98912\n",
      "Data columns (total 24 columns):\n",
      " #   Column               Non-Null Count  Dtype  \n",
      "---  ------               --------------  -----  \n",
      " 0   identifierHash       98913 non-null  int64  \n",
      " 1   type                 98913 non-null  object \n",
      " 2   country              98913 non-null  object \n",
      " 3   language             98913 non-null  object \n",
      " 4   socialNbFollowers    98913 non-null  int64  \n",
      " 5   socialNbFollows      98913 non-null  int64  \n",
      " 6   socialProductsLiked  98913 non-null  int64  \n",
      " 7   productsListed       98913 non-null  int64  \n",
      " 8   productsSold         98913 non-null  int64  \n",
      " 9   productsPassRate     98913 non-null  float64\n",
      " 10  productsWished       98913 non-null  int64  \n",
      " 11  productsBought       98913 non-null  int64  \n",
      " 12  gender               98913 non-null  object \n",
      " 13  civilityGenderId     98913 non-null  int64  \n",
      " 14  civilityTitle        98913 non-null  object \n",
      " 15  hasAnyApp            98913 non-null  bool   \n",
      " 16  hasAndroidApp        98913 non-null  bool   \n",
      " 17  hasIosApp            98913 non-null  bool   \n",
      " 18  hasProfilePicture    98913 non-null  bool   \n",
      " 19  daysSinceLastLogin   98913 non-null  int64  \n",
      " 20  seniority            98913 non-null  int64  \n",
      " 21  seniorityAsMonths    98913 non-null  float64\n",
      " 22  seniorityAsYears     98913 non-null  float64\n",
      " 23  countryCode          98913 non-null  object \n",
      "dtypes: bool(4), float64(3), int64(11), object(6)\n",
      "memory usage: 15.5+ MB\n"
     ]
    }
   ],
   "source": [
    "udf.info()"
   ]
  },
  {
   "cell_type": "markdown",
   "id": "53e422de",
   "metadata": {},
   "source": [
    "At first glance, the country column stands out. Since this is a French company, the country names are in French so we will change the country names to English to improve readability. We see that there are 200 different countries represented in our data which means changing them manually will not be efficient. Fortunately we can import a file (cc) with this information already populated and join the data frames."
   ]
  },
  {
   "cell_type": "code",
   "execution_count": 7,
   "id": "fe2b2ded",
   "metadata": {},
   "outputs": [
    {
     "data": {
      "text/plain": [
       "200"
      ]
     },
     "execution_count": 7,
     "metadata": {},
     "output_type": "execute_result"
    }
   ],
   "source": [
    "len(udf['country'].unique())"
   ]
  },
  {
   "cell_type": "code",
   "execution_count": 8,
   "id": "3529a493",
   "metadata": {},
   "outputs": [],
   "source": [
    "#https://github.com/lukes/ISO-3166-Countries-with-Regional-Codes/blob/master/all/all.csv\n",
    "cc = pd.read_csv('CountryCodesRegions.csv')"
   ]
  },
  {
   "cell_type": "code",
   "execution_count": 9,
   "id": "82de3432",
   "metadata": {},
   "outputs": [
    {
     "data": {
      "text/html": [
       "<div>\n",
       "<style scoped>\n",
       "    .dataframe tbody tr th:only-of-type {\n",
       "        vertical-align: middle;\n",
       "    }\n",
       "\n",
       "    .dataframe tbody tr th {\n",
       "        vertical-align: top;\n",
       "    }\n",
       "\n",
       "    .dataframe thead th {\n",
       "        text-align: right;\n",
       "    }\n",
       "</style>\n",
       "<table border=\"1\" class=\"dataframe\">\n",
       "  <thead>\n",
       "    <tr style=\"text-align: right;\">\n",
       "      <th></th>\n",
       "      <th>name</th>\n",
       "      <th>alpha-2</th>\n",
       "      <th>alpha-3</th>\n",
       "      <th>country-code</th>\n",
       "      <th>iso_3166-2</th>\n",
       "      <th>region</th>\n",
       "      <th>sub-region</th>\n",
       "      <th>intermediate-region</th>\n",
       "      <th>region-code</th>\n",
       "      <th>sub-region-code</th>\n",
       "      <th>intermediate-region-code</th>\n",
       "    </tr>\n",
       "  </thead>\n",
       "  <tbody>\n",
       "    <tr>\n",
       "      <th>0</th>\n",
       "      <td>Afghanistan</td>\n",
       "      <td>AF</td>\n",
       "      <td>AFG</td>\n",
       "      <td>4</td>\n",
       "      <td>ISO 3166-2:AF</td>\n",
       "      <td>Asia</td>\n",
       "      <td>Southern Asia</td>\n",
       "      <td>NaN</td>\n",
       "      <td>142.0</td>\n",
       "      <td>34.0</td>\n",
       "      <td>NaN</td>\n",
       "    </tr>\n",
       "    <tr>\n",
       "      <th>1</th>\n",
       "      <td>Åland Islands</td>\n",
       "      <td>AX</td>\n",
       "      <td>ALA</td>\n",
       "      <td>248</td>\n",
       "      <td>ISO 3166-2:AX</td>\n",
       "      <td>Europe</td>\n",
       "      <td>Northern Europe</td>\n",
       "      <td>NaN</td>\n",
       "      <td>150.0</td>\n",
       "      <td>154.0</td>\n",
       "      <td>NaN</td>\n",
       "    </tr>\n",
       "    <tr>\n",
       "      <th>2</th>\n",
       "      <td>Albania</td>\n",
       "      <td>AL</td>\n",
       "      <td>ALB</td>\n",
       "      <td>8</td>\n",
       "      <td>ISO 3166-2:AL</td>\n",
       "      <td>Europe</td>\n",
       "      <td>Southern Europe</td>\n",
       "      <td>NaN</td>\n",
       "      <td>150.0</td>\n",
       "      <td>39.0</td>\n",
       "      <td>NaN</td>\n",
       "    </tr>\n",
       "    <tr>\n",
       "      <th>3</th>\n",
       "      <td>Algeria</td>\n",
       "      <td>DZ</td>\n",
       "      <td>DZA</td>\n",
       "      <td>12</td>\n",
       "      <td>ISO 3166-2:DZ</td>\n",
       "      <td>Africa</td>\n",
       "      <td>Northern Africa</td>\n",
       "      <td>NaN</td>\n",
       "      <td>2.0</td>\n",
       "      <td>15.0</td>\n",
       "      <td>NaN</td>\n",
       "    </tr>\n",
       "    <tr>\n",
       "      <th>4</th>\n",
       "      <td>American Samoa</td>\n",
       "      <td>AS</td>\n",
       "      <td>ASM</td>\n",
       "      <td>16</td>\n",
       "      <td>ISO 3166-2:AS</td>\n",
       "      <td>Oceania</td>\n",
       "      <td>Polynesia</td>\n",
       "      <td>NaN</td>\n",
       "      <td>9.0</td>\n",
       "      <td>61.0</td>\n",
       "      <td>NaN</td>\n",
       "    </tr>\n",
       "  </tbody>\n",
       "</table>\n",
       "</div>"
      ],
      "text/plain": [
       "             name alpha-2 alpha-3  country-code     iso_3166-2   region  \\\n",
       "0     Afghanistan      AF     AFG             4  ISO 3166-2:AF     Asia   \n",
       "1   Åland Islands      AX     ALA           248  ISO 3166-2:AX   Europe   \n",
       "2         Albania      AL     ALB             8  ISO 3166-2:AL   Europe   \n",
       "3         Algeria      DZ     DZA            12  ISO 3166-2:DZ   Africa   \n",
       "4  American Samoa      AS     ASM            16  ISO 3166-2:AS  Oceania   \n",
       "\n",
       "        sub-region intermediate-region  region-code  sub-region-code  \\\n",
       "0    Southern Asia                 NaN        142.0             34.0   \n",
       "1  Northern Europe                 NaN        150.0            154.0   \n",
       "2  Southern Europe                 NaN        150.0             39.0   \n",
       "3  Northern Africa                 NaN          2.0             15.0   \n",
       "4        Polynesia                 NaN          9.0             61.0   \n",
       "\n",
       "   intermediate-region-code  \n",
       "0                       NaN  \n",
       "1                       NaN  \n",
       "2                       NaN  \n",
       "3                       NaN  \n",
       "4                       NaN  "
      ]
     },
     "execution_count": 9,
     "metadata": {},
     "output_type": "execute_result"
    }
   ],
   "source": [
    "cc.head()"
   ]
  },
  {
   "cell_type": "markdown",
   "id": "a09e69e1",
   "metadata": {},
   "source": [
    "Comparing our initial data with the new file containing country data, we will be joining the two data frames on the corresponding country code columns, labeled 'countryCode' and 'alpha-2' respectively. The country code data frame also has additional columns that can be used in our analysis, and we will drop the remaining columns. "
   ]
  },
  {
   "cell_type": "markdown",
   "id": "dabe0d4a",
   "metadata": {},
   "source": [
    "I also check the 'alpha-2' column to make sure the values loaded in properly as this is the column we will be merging on. Seeing that there is an nan value, I check what entries are missing a value and it appears that Namibia (code: NA) was imported as nan so we can fill this information in. "
   ]
  },
  {
   "cell_type": "code",
   "execution_count": 10,
   "id": "90c5cb94",
   "metadata": {},
   "outputs": [
    {
     "data": {
      "text/plain": [
       "array(['AF', 'AX', 'AL', 'DZ', 'AS', 'AD', 'AO', 'AI', 'AQ', 'AG', 'AR',\n",
       "       'AM', 'AW', 'AU', 'AT', 'AZ', 'BS', 'BH', 'BD', 'BB', 'BY', 'BE',\n",
       "       'BZ', 'BJ', 'BM', 'BT', 'BO', 'BQ', 'BA', 'BW', 'BV', 'BR', 'IO',\n",
       "       'BN', 'BG', 'BF', 'BI', 'CV', 'KH', 'CM', 'CA', 'KY', 'CF', 'TD',\n",
       "       'CL', 'CN', 'CX', 'CC', 'CO', 'KM', 'CG', 'CD', 'CK', 'CR', 'CI',\n",
       "       'HR', 'CU', 'CW', 'CY', 'CZ', 'DK', 'DJ', 'DM', 'DO', 'EC', 'EG',\n",
       "       'SV', 'GQ', 'ER', 'EE', 'SZ', 'ET', 'FK', 'FO', 'FJ', 'FI', 'FR',\n",
       "       'GF', 'PF', 'TF', 'GA', 'GM', 'GE', 'DE', 'GH', 'GI', 'GR', 'GL',\n",
       "       'GD', 'GP', 'GU', 'GT', 'GG', 'GN', 'GW', 'GY', 'HT', 'HM', 'VA',\n",
       "       'HN', 'HK', 'HU', 'IS', 'IN', 'ID', 'IR', 'IQ', 'IE', 'IM', 'IL',\n",
       "       'IT', 'JM', 'JP', 'JE', 'JO', 'KZ', 'KE', 'KI', 'KP', 'KR', 'KW',\n",
       "       'KG', 'LA', 'LV', 'LB', 'LS', 'LR', 'LY', 'LI', 'LT', 'LU', 'MO',\n",
       "       'MG', 'MW', 'MY', 'MV', 'ML', 'MT', 'MH', 'MQ', 'MR', 'MU', 'YT',\n",
       "       'MX', 'FM', 'MD', 'MC', 'MN', 'ME', 'MS', 'MA', 'MZ', 'MM', nan,\n",
       "       'NR', 'NP', 'NL', 'NC', 'NZ', 'NI', 'NE', 'NG', 'NU', 'NF', 'MK',\n",
       "       'MP', 'NO', 'OM', 'PK', 'PW', 'PS', 'PA', 'PG', 'PY', 'PE', 'PH',\n",
       "       'PN', 'PL', 'PT', 'PR', 'QA', 'RE', 'RO', 'RU', 'RW', 'BL', 'SH',\n",
       "       'KN', 'LC', 'MF', 'PM', 'VC', 'WS', 'SM', 'ST', 'SA', 'SN', 'RS',\n",
       "       'SC', 'SL', 'SG', 'SX', 'SK', 'SI', 'SB', 'SO', 'ZA', 'GS', 'SS',\n",
       "       'ES', 'LK', 'SD', 'SR', 'SJ', 'SE', 'CH', 'SY', 'TW', 'TJ', 'TZ',\n",
       "       'TH', 'TL', 'TG', 'TK', 'TO', 'TT', 'TN', 'TR', 'TM', 'TC', 'TV',\n",
       "       'UG', 'UA', 'AE', 'GB', 'US', 'UM', 'UY', 'UZ', 'VU', 'VE', 'VN',\n",
       "       'VG', 'VI', 'WF', 'EH', 'YE', 'ZM', 'ZW'], dtype=object)"
      ]
     },
     "execution_count": 10,
     "metadata": {},
     "output_type": "execute_result"
    }
   ],
   "source": [
    "cc['alpha-2'].unique()"
   ]
  },
  {
   "cell_type": "code",
   "execution_count": 11,
   "id": "2719e5c8",
   "metadata": {},
   "outputs": [
    {
     "data": {
      "text/html": [
       "<div>\n",
       "<style scoped>\n",
       "    .dataframe tbody tr th:only-of-type {\n",
       "        vertical-align: middle;\n",
       "    }\n",
       "\n",
       "    .dataframe tbody tr th {\n",
       "        vertical-align: top;\n",
       "    }\n",
       "\n",
       "    .dataframe thead th {\n",
       "        text-align: right;\n",
       "    }\n",
       "</style>\n",
       "<table border=\"1\" class=\"dataframe\">\n",
       "  <thead>\n",
       "    <tr style=\"text-align: right;\">\n",
       "      <th></th>\n",
       "      <th>name</th>\n",
       "      <th>alpha-2</th>\n",
       "      <th>alpha-3</th>\n",
       "      <th>country-code</th>\n",
       "      <th>iso_3166-2</th>\n",
       "      <th>region</th>\n",
       "      <th>sub-region</th>\n",
       "      <th>intermediate-region</th>\n",
       "      <th>region-code</th>\n",
       "      <th>sub-region-code</th>\n",
       "      <th>intermediate-region-code</th>\n",
       "    </tr>\n",
       "  </thead>\n",
       "  <tbody>\n",
       "    <tr>\n",
       "      <th>153</th>\n",
       "      <td>Namibia</td>\n",
       "      <td>NaN</td>\n",
       "      <td>NAM</td>\n",
       "      <td>516</td>\n",
       "      <td>ISO 3166-2:NA</td>\n",
       "      <td>Africa</td>\n",
       "      <td>Sub-Saharan Africa</td>\n",
       "      <td>Southern Africa</td>\n",
       "      <td>2.0</td>\n",
       "      <td>202.0</td>\n",
       "      <td>18.0</td>\n",
       "    </tr>\n",
       "  </tbody>\n",
       "</table>\n",
       "</div>"
      ],
      "text/plain": [
       "        name alpha-2 alpha-3  country-code     iso_3166-2  region  \\\n",
       "153  Namibia     NaN     NAM           516  ISO 3166-2:NA  Africa   \n",
       "\n",
       "             sub-region intermediate-region  region-code  sub-region-code  \\\n",
       "153  Sub-Saharan Africa     Southern Africa          2.0            202.0   \n",
       "\n",
       "     intermediate-region-code  \n",
       "153                      18.0  "
      ]
     },
     "execution_count": 11,
     "metadata": {},
     "output_type": "execute_result"
    }
   ],
   "source": [
    "cc[cc['alpha-2'].isna()]"
   ]
  },
  {
   "cell_type": "code",
   "execution_count": 12,
   "id": "91465670",
   "metadata": {},
   "outputs": [],
   "source": [
    "cc['alpha-2'].fillna('NA', inplace = True)"
   ]
  },
  {
   "cell_type": "markdown",
   "id": "b4effd35",
   "metadata": {},
   "source": [
    "Since we are merging on the two letter country codes in both data frames, we will be converting the values in the 'alpha-2' column to lower case. We will also drop the columns we will not use before merging. "
   ]
  },
  {
   "cell_type": "code",
   "execution_count": 13,
   "id": "6af3bbd3",
   "metadata": {},
   "outputs": [],
   "source": [
    "cc['alpha-2'] = cc['alpha-2'].str.lower()"
   ]
  },
  {
   "cell_type": "markdown",
   "id": "f5b1754e",
   "metadata": {},
   "source": [
    "We keep the 'region' and 'sub-region' columns, in addition to 'alpha-2' and 'name', as we can use those columns in our analysis. "
   ]
  },
  {
   "cell_type": "code",
   "execution_count": 14,
   "id": "ebe0c737",
   "metadata": {},
   "outputs": [
    {
     "data": {
      "text/html": [
       "<div>\n",
       "<style scoped>\n",
       "    .dataframe tbody tr th:only-of-type {\n",
       "        vertical-align: middle;\n",
       "    }\n",
       "\n",
       "    .dataframe tbody tr th {\n",
       "        vertical-align: top;\n",
       "    }\n",
       "\n",
       "    .dataframe thead th {\n",
       "        text-align: right;\n",
       "    }\n",
       "</style>\n",
       "<table border=\"1\" class=\"dataframe\">\n",
       "  <thead>\n",
       "    <tr style=\"text-align: right;\">\n",
       "      <th></th>\n",
       "      <th>name</th>\n",
       "      <th>alpha-2</th>\n",
       "      <th>region</th>\n",
       "      <th>sub-region</th>\n",
       "    </tr>\n",
       "  </thead>\n",
       "  <tbody>\n",
       "    <tr>\n",
       "      <th>0</th>\n",
       "      <td>Afghanistan</td>\n",
       "      <td>af</td>\n",
       "      <td>Asia</td>\n",
       "      <td>Southern Asia</td>\n",
       "    </tr>\n",
       "    <tr>\n",
       "      <th>1</th>\n",
       "      <td>Åland Islands</td>\n",
       "      <td>ax</td>\n",
       "      <td>Europe</td>\n",
       "      <td>Northern Europe</td>\n",
       "    </tr>\n",
       "    <tr>\n",
       "      <th>2</th>\n",
       "      <td>Albania</td>\n",
       "      <td>al</td>\n",
       "      <td>Europe</td>\n",
       "      <td>Southern Europe</td>\n",
       "    </tr>\n",
       "    <tr>\n",
       "      <th>3</th>\n",
       "      <td>Algeria</td>\n",
       "      <td>dz</td>\n",
       "      <td>Africa</td>\n",
       "      <td>Northern Africa</td>\n",
       "    </tr>\n",
       "    <tr>\n",
       "      <th>4</th>\n",
       "      <td>American Samoa</td>\n",
       "      <td>as</td>\n",
       "      <td>Oceania</td>\n",
       "      <td>Polynesia</td>\n",
       "    </tr>\n",
       "  </tbody>\n",
       "</table>\n",
       "</div>"
      ],
      "text/plain": [
       "             name alpha-2   region       sub-region\n",
       "0     Afghanistan      af     Asia    Southern Asia\n",
       "1   Åland Islands      ax   Europe  Northern Europe\n",
       "2         Albania      al   Europe  Southern Europe\n",
       "3         Algeria      dz   Africa  Northern Africa\n",
       "4  American Samoa      as  Oceania        Polynesia"
      ]
     },
     "execution_count": 14,
     "metadata": {},
     "output_type": "execute_result"
    }
   ],
   "source": [
    "cc.drop(['alpha-3', 'country-code', 'iso_3166-2', 'intermediate-region', 'region-code', 'sub-region-code',\n",
    "       'intermediate-region-code'], axis=1, inplace=True)\n",
    "cc.head()"
   ]
  },
  {
   "cell_type": "markdown",
   "id": "5134eef1",
   "metadata": {},
   "source": [
    "Since we joined on two different named columns, we have duplicate columns for the country code so we can drop the duplicate country code column as well as the original country name column and rename the new name column."
   ]
  },
  {
   "cell_type": "code",
   "execution_count": 15,
   "id": "b99b9d35",
   "metadata": {},
   "outputs": [
    {
     "data": {
      "text/html": [
       "<div>\n",
       "<style scoped>\n",
       "    .dataframe tbody tr th:only-of-type {\n",
       "        vertical-align: middle;\n",
       "    }\n",
       "\n",
       "    .dataframe tbody tr th {\n",
       "        vertical-align: top;\n",
       "    }\n",
       "\n",
       "    .dataframe thead th {\n",
       "        text-align: right;\n",
       "    }\n",
       "</style>\n",
       "<table border=\"1\" class=\"dataframe\">\n",
       "  <thead>\n",
       "    <tr style=\"text-align: right;\">\n",
       "      <th></th>\n",
       "      <th>identifierHash</th>\n",
       "      <th>type</th>\n",
       "      <th>country</th>\n",
       "      <th>language</th>\n",
       "      <th>socialNbFollowers</th>\n",
       "      <th>socialNbFollows</th>\n",
       "      <th>socialProductsLiked</th>\n",
       "      <th>productsListed</th>\n",
       "      <th>productsSold</th>\n",
       "      <th>productsPassRate</th>\n",
       "      <th>...</th>\n",
       "      <th>daysSinceLastLogin</th>\n",
       "      <th>seniority</th>\n",
       "      <th>seniorityAsMonths</th>\n",
       "      <th>seniorityAsYears</th>\n",
       "      <th>countryCode</th>\n",
       "      <th>name</th>\n",
       "      <th>alpha-2</th>\n",
       "      <th>region</th>\n",
       "      <th>sub-region</th>\n",
       "      <th>_merge</th>\n",
       "    </tr>\n",
       "  </thead>\n",
       "  <tbody>\n",
       "    <tr>\n",
       "      <th>67740</th>\n",
       "      <td>6216294145137236929</td>\n",
       "      <td>user</td>\n",
       "      <td>Espagne</td>\n",
       "      <td>es</td>\n",
       "      <td>3</td>\n",
       "      <td>9</td>\n",
       "      <td>3</td>\n",
       "      <td>0</td>\n",
       "      <td>0</td>\n",
       "      <td>0.0</td>\n",
       "      <td>...</td>\n",
       "      <td>93</td>\n",
       "      <td>2858</td>\n",
       "      <td>95.27</td>\n",
       "      <td>7.94</td>\n",
       "      <td>es</td>\n",
       "      <td>Spain</td>\n",
       "      <td>es</td>\n",
       "      <td>Europe</td>\n",
       "      <td>Southern Europe</td>\n",
       "      <td>both</td>\n",
       "    </tr>\n",
       "    <tr>\n",
       "      <th>82909</th>\n",
       "      <td>7889233628486406980</td>\n",
       "      <td>user</td>\n",
       "      <td>France</td>\n",
       "      <td>fr</td>\n",
       "      <td>3</td>\n",
       "      <td>8</td>\n",
       "      <td>0</td>\n",
       "      <td>0</td>\n",
       "      <td>0</td>\n",
       "      <td>0.0</td>\n",
       "      <td>...</td>\n",
       "      <td>693</td>\n",
       "      <td>2854</td>\n",
       "      <td>95.13</td>\n",
       "      <td>7.93</td>\n",
       "      <td>fr</td>\n",
       "      <td>France</td>\n",
       "      <td>fr</td>\n",
       "      <td>Europe</td>\n",
       "      <td>Western Europe</td>\n",
       "      <td>both</td>\n",
       "    </tr>\n",
       "    <tr>\n",
       "      <th>73957</th>\n",
       "      <td>568666664157311067</td>\n",
       "      <td>user</td>\n",
       "      <td>Espagne</td>\n",
       "      <td>es</td>\n",
       "      <td>3</td>\n",
       "      <td>8</td>\n",
       "      <td>0</td>\n",
       "      <td>0</td>\n",
       "      <td>0</td>\n",
       "      <td>0.0</td>\n",
       "      <td>...</td>\n",
       "      <td>695</td>\n",
       "      <td>2856</td>\n",
       "      <td>95.20</td>\n",
       "      <td>7.93</td>\n",
       "      <td>es</td>\n",
       "      <td>Spain</td>\n",
       "      <td>es</td>\n",
       "      <td>Europe</td>\n",
       "      <td>Southern Europe</td>\n",
       "      <td>both</td>\n",
       "    </tr>\n",
       "    <tr>\n",
       "      <th>8896</th>\n",
       "      <td>-1558854742789192743</td>\n",
       "      <td>user</td>\n",
       "      <td>Espagne</td>\n",
       "      <td>es</td>\n",
       "      <td>4</td>\n",
       "      <td>8</td>\n",
       "      <td>0</td>\n",
       "      <td>0</td>\n",
       "      <td>0</td>\n",
       "      <td>0.0</td>\n",
       "      <td>...</td>\n",
       "      <td>567</td>\n",
       "      <td>3198</td>\n",
       "      <td>106.60</td>\n",
       "      <td>8.88</td>\n",
       "      <td>es</td>\n",
       "      <td>Spain</td>\n",
       "      <td>es</td>\n",
       "      <td>Europe</td>\n",
       "      <td>Southern Europe</td>\n",
       "      <td>both</td>\n",
       "    </tr>\n",
       "    <tr>\n",
       "      <th>83908</th>\n",
       "      <td>2808348625202222062</td>\n",
       "      <td>user</td>\n",
       "      <td>Danemark</td>\n",
       "      <td>en</td>\n",
       "      <td>3</td>\n",
       "      <td>8</td>\n",
       "      <td>9</td>\n",
       "      <td>0</td>\n",
       "      <td>0</td>\n",
       "      <td>0.0</td>\n",
       "      <td>...</td>\n",
       "      <td>14</td>\n",
       "      <td>2854</td>\n",
       "      <td>95.13</td>\n",
       "      <td>7.93</td>\n",
       "      <td>dk</td>\n",
       "      <td>Denmark</td>\n",
       "      <td>dk</td>\n",
       "      <td>Europe</td>\n",
       "      <td>Northern Europe</td>\n",
       "      <td>both</td>\n",
       "    </tr>\n",
       "  </tbody>\n",
       "</table>\n",
       "<p>5 rows × 29 columns</p>\n",
       "</div>"
      ],
      "text/plain": [
       "            identifierHash  type   country language  socialNbFollowers  \\\n",
       "67740  6216294145137236929  user   Espagne       es                  3   \n",
       "82909  7889233628486406980  user    France       fr                  3   \n",
       "73957   568666664157311067  user   Espagne       es                  3   \n",
       "8896  -1558854742789192743  user   Espagne       es                  4   \n",
       "83908  2808348625202222062  user  Danemark       en                  3   \n",
       "\n",
       "       socialNbFollows  socialProductsLiked  productsListed  productsSold  \\\n",
       "67740                9                    3               0             0   \n",
       "82909                8                    0               0             0   \n",
       "73957                8                    0               0             0   \n",
       "8896                 8                    0               0             0   \n",
       "83908                8                    9               0             0   \n",
       "\n",
       "       productsPassRate  ...  daysSinceLastLogin  seniority seniorityAsMonths  \\\n",
       "67740               0.0  ...                  93       2858             95.27   \n",
       "82909               0.0  ...                 693       2854             95.13   \n",
       "73957               0.0  ...                 695       2856             95.20   \n",
       "8896                0.0  ...                 567       3198            106.60   \n",
       "83908               0.0  ...                  14       2854             95.13   \n",
       "\n",
       "       seniorityAsYears countryCode     name  alpha-2  region  \\\n",
       "67740              7.94          es    Spain       es  Europe   \n",
       "82909              7.93          fr   France       fr  Europe   \n",
       "73957              7.93          es    Spain       es  Europe   \n",
       "8896               8.88          es    Spain       es  Europe   \n",
       "83908              7.93          dk  Denmark       dk  Europe   \n",
       "\n",
       "            sub-region  _merge  \n",
       "67740  Southern Europe    both  \n",
       "82909   Western Europe    both  \n",
       "73957  Southern Europe    both  \n",
       "8896   Southern Europe    both  \n",
       "83908  Northern Europe    both  \n",
       "\n",
       "[5 rows x 29 columns]"
      ]
     },
     "execution_count": 15,
     "metadata": {},
     "output_type": "execute_result"
    }
   ],
   "source": [
    "newdf = pd.merge(udf, cc, left_on='countryCode', right_on='alpha-2', indicator = True, how='left')\n",
    "newdf.sample(5)"
   ]
  },
  {
   "cell_type": "code",
   "execution_count": 16,
   "id": "0df280ea",
   "metadata": {},
   "outputs": [],
   "source": [
    "newdf.drop(['country','alpha-2'], axis=1, inplace=True)\n",
    "newdf.rename(columns={'name':'country'}, inplace=True)"
   ]
  },
  {
   "cell_type": "code",
   "execution_count": 17,
   "id": "91179461",
   "metadata": {},
   "outputs": [
    {
     "data": {
      "text/html": [
       "<div>\n",
       "<style scoped>\n",
       "    .dataframe tbody tr th:only-of-type {\n",
       "        vertical-align: middle;\n",
       "    }\n",
       "\n",
       "    .dataframe tbody tr th {\n",
       "        vertical-align: top;\n",
       "    }\n",
       "\n",
       "    .dataframe thead th {\n",
       "        text-align: right;\n",
       "    }\n",
       "</style>\n",
       "<table border=\"1\" class=\"dataframe\">\n",
       "  <thead>\n",
       "    <tr style=\"text-align: right;\">\n",
       "      <th></th>\n",
       "      <th>identifierHash</th>\n",
       "      <th>type</th>\n",
       "      <th>language</th>\n",
       "      <th>socialNbFollowers</th>\n",
       "      <th>socialNbFollows</th>\n",
       "      <th>socialProductsLiked</th>\n",
       "      <th>productsListed</th>\n",
       "      <th>productsSold</th>\n",
       "      <th>productsPassRate</th>\n",
       "      <th>productsWished</th>\n",
       "      <th>...</th>\n",
       "      <th>hasProfilePicture</th>\n",
       "      <th>daysSinceLastLogin</th>\n",
       "      <th>seniority</th>\n",
       "      <th>seniorityAsMonths</th>\n",
       "      <th>seniorityAsYears</th>\n",
       "      <th>countryCode</th>\n",
       "      <th>country</th>\n",
       "      <th>region</th>\n",
       "      <th>sub-region</th>\n",
       "      <th>_merge</th>\n",
       "    </tr>\n",
       "  </thead>\n",
       "  <tbody>\n",
       "    <tr>\n",
       "      <th>72060</th>\n",
       "      <td>4274630642879547109</td>\n",
       "      <td>user</td>\n",
       "      <td>en</td>\n",
       "      <td>3</td>\n",
       "      <td>8</td>\n",
       "      <td>0</td>\n",
       "      <td>0</td>\n",
       "      <td>0</td>\n",
       "      <td>0.0</td>\n",
       "      <td>0</td>\n",
       "      <td>...</td>\n",
       "      <td>True</td>\n",
       "      <td>212</td>\n",
       "      <td>2857</td>\n",
       "      <td>95.23</td>\n",
       "      <td>7.94</td>\n",
       "      <td>us</td>\n",
       "      <td>United States of America</td>\n",
       "      <td>Americas</td>\n",
       "      <td>Northern America</td>\n",
       "      <td>both</td>\n",
       "    </tr>\n",
       "    <tr>\n",
       "      <th>42764</th>\n",
       "      <td>-7332083374344196075</td>\n",
       "      <td>user</td>\n",
       "      <td>fr</td>\n",
       "      <td>3</td>\n",
       "      <td>8</td>\n",
       "      <td>0</td>\n",
       "      <td>0</td>\n",
       "      <td>0</td>\n",
       "      <td>0.0</td>\n",
       "      <td>0</td>\n",
       "      <td>...</td>\n",
       "      <td>True</td>\n",
       "      <td>702</td>\n",
       "      <td>3198</td>\n",
       "      <td>106.60</td>\n",
       "      <td>8.88</td>\n",
       "      <td>fr</td>\n",
       "      <td>France</td>\n",
       "      <td>Europe</td>\n",
       "      <td>Western Europe</td>\n",
       "      <td>both</td>\n",
       "    </tr>\n",
       "    <tr>\n",
       "      <th>97041</th>\n",
       "      <td>1319251360528137337</td>\n",
       "      <td>user</td>\n",
       "      <td>en</td>\n",
       "      <td>3</td>\n",
       "      <td>8</td>\n",
       "      <td>0</td>\n",
       "      <td>0</td>\n",
       "      <td>0</td>\n",
       "      <td>0.0</td>\n",
       "      <td>0</td>\n",
       "      <td>...</td>\n",
       "      <td>True</td>\n",
       "      <td>708</td>\n",
       "      <td>3204</td>\n",
       "      <td>106.80</td>\n",
       "      <td>8.90</td>\n",
       "      <td>ie</td>\n",
       "      <td>Ireland</td>\n",
       "      <td>Europe</td>\n",
       "      <td>Northern Europe</td>\n",
       "      <td>both</td>\n",
       "    </tr>\n",
       "    <tr>\n",
       "      <th>15156</th>\n",
       "      <td>1134701271165065859</td>\n",
       "      <td>user</td>\n",
       "      <td>fr</td>\n",
       "      <td>3</td>\n",
       "      <td>8</td>\n",
       "      <td>0</td>\n",
       "      <td>0</td>\n",
       "      <td>0</td>\n",
       "      <td>0.0</td>\n",
       "      <td>0</td>\n",
       "      <td>...</td>\n",
       "      <td>True</td>\n",
       "      <td>709</td>\n",
       "      <td>3205</td>\n",
       "      <td>106.83</td>\n",
       "      <td>8.90</td>\n",
       "      <td>fr</td>\n",
       "      <td>France</td>\n",
       "      <td>Europe</td>\n",
       "      <td>Western Europe</td>\n",
       "      <td>both</td>\n",
       "    </tr>\n",
       "    <tr>\n",
       "      <th>55638</th>\n",
       "      <td>8325923972024068117</td>\n",
       "      <td>user</td>\n",
       "      <td>en</td>\n",
       "      <td>3</td>\n",
       "      <td>8</td>\n",
       "      <td>0</td>\n",
       "      <td>0</td>\n",
       "      <td>0</td>\n",
       "      <td>0.0</td>\n",
       "      <td>0</td>\n",
       "      <td>...</td>\n",
       "      <td>True</td>\n",
       "      <td>700</td>\n",
       "      <td>3196</td>\n",
       "      <td>106.53</td>\n",
       "      <td>8.88</td>\n",
       "      <td>nl</td>\n",
       "      <td>Netherlands</td>\n",
       "      <td>Europe</td>\n",
       "      <td>Western Europe</td>\n",
       "      <td>both</td>\n",
       "    </tr>\n",
       "  </tbody>\n",
       "</table>\n",
       "<p>5 rows × 27 columns</p>\n",
       "</div>"
      ],
      "text/plain": [
       "            identifierHash  type language  socialNbFollowers  socialNbFollows  \\\n",
       "72060  4274630642879547109  user       en                  3                8   \n",
       "42764 -7332083374344196075  user       fr                  3                8   \n",
       "97041  1319251360528137337  user       en                  3                8   \n",
       "15156  1134701271165065859  user       fr                  3                8   \n",
       "55638  8325923972024068117  user       en                  3                8   \n",
       "\n",
       "       socialProductsLiked  productsListed  productsSold  productsPassRate  \\\n",
       "72060                    0               0             0               0.0   \n",
       "42764                    0               0             0               0.0   \n",
       "97041                    0               0             0               0.0   \n",
       "15156                    0               0             0               0.0   \n",
       "55638                    0               0             0               0.0   \n",
       "\n",
       "       productsWished  ...  hasProfilePicture daysSinceLastLogin  seniority  \\\n",
       "72060               0  ...               True                212       2857   \n",
       "42764               0  ...               True                702       3198   \n",
       "97041               0  ...               True                708       3204   \n",
       "15156               0  ...               True                709       3205   \n",
       "55638               0  ...               True                700       3196   \n",
       "\n",
       "      seniorityAsMonths  seniorityAsYears  countryCode  \\\n",
       "72060             95.23              7.94           us   \n",
       "42764            106.60              8.88           fr   \n",
       "97041            106.80              8.90           ie   \n",
       "15156            106.83              8.90           fr   \n",
       "55638            106.53              8.88           nl   \n",
       "\n",
       "                        country    region        sub-region  _merge  \n",
       "72060  United States of America  Americas  Northern America    both  \n",
       "42764                    France    Europe    Western Europe    both  \n",
       "97041                   Ireland    Europe   Northern Europe    both  \n",
       "15156                    France    Europe    Western Europe    both  \n",
       "55638               Netherlands    Europe    Western Europe    both  \n",
       "\n",
       "[5 rows x 27 columns]"
      ]
     },
     "execution_count": 17,
     "metadata": {},
     "output_type": "execute_result"
    }
   ],
   "source": [
    "newdf.sample(5)"
   ]
  },
  {
   "cell_type": "code",
   "execution_count": 18,
   "id": "210ba33a",
   "metadata": {},
   "outputs": [
    {
     "data": {
      "text/plain": [
       "(98913, 27)"
      ]
     },
     "execution_count": 18,
     "metadata": {},
     "output_type": "execute_result"
    }
   ],
   "source": [
    "newdf.shape"
   ]
  },
  {
   "cell_type": "markdown",
   "id": "74724249",
   "metadata": {},
   "source": [
    "We check to see if any of the entries are missing data after the merge. By adding the 'indicator' parameter when merging, a column is added to identify which entries only have data from one data frame. Seeing that there are only three entries missing data, we can drop them. It looks like the country code data we merged did not contain information for the Canary Islands or the Netherland Antilles, leading to nan values. "
   ]
  },
  {
   "cell_type": "code",
   "execution_count": 19,
   "id": "129f0ff6",
   "metadata": {},
   "outputs": [
    {
     "data": {
      "text/html": [
       "<div>\n",
       "<style scoped>\n",
       "    .dataframe tbody tr th:only-of-type {\n",
       "        vertical-align: middle;\n",
       "    }\n",
       "\n",
       "    .dataframe tbody tr th {\n",
       "        vertical-align: top;\n",
       "    }\n",
       "\n",
       "    .dataframe thead th {\n",
       "        text-align: right;\n",
       "    }\n",
       "</style>\n",
       "<table border=\"1\" class=\"dataframe\">\n",
       "  <thead>\n",
       "    <tr style=\"text-align: right;\">\n",
       "      <th></th>\n",
       "      <th>identifierHash</th>\n",
       "      <th>type</th>\n",
       "      <th>language</th>\n",
       "      <th>socialNbFollowers</th>\n",
       "      <th>socialNbFollows</th>\n",
       "      <th>socialProductsLiked</th>\n",
       "      <th>productsListed</th>\n",
       "      <th>productsSold</th>\n",
       "      <th>productsPassRate</th>\n",
       "      <th>productsWished</th>\n",
       "      <th>...</th>\n",
       "      <th>hasProfilePicture</th>\n",
       "      <th>daysSinceLastLogin</th>\n",
       "      <th>seniority</th>\n",
       "      <th>seniorityAsMonths</th>\n",
       "      <th>seniorityAsYears</th>\n",
       "      <th>countryCode</th>\n",
       "      <th>country</th>\n",
       "      <th>region</th>\n",
       "      <th>sub-region</th>\n",
       "      <th>_merge</th>\n",
       "    </tr>\n",
       "  </thead>\n",
       "  <tbody>\n",
       "    <tr>\n",
       "      <th>1955</th>\n",
       "      <td>-8715033061566320444</td>\n",
       "      <td>user</td>\n",
       "      <td>es</td>\n",
       "      <td>3</td>\n",
       "      <td>8</td>\n",
       "      <td>0</td>\n",
       "      <td>1</td>\n",
       "      <td>1</td>\n",
       "      <td>0.0</td>\n",
       "      <td>0</td>\n",
       "      <td>...</td>\n",
       "      <td>True</td>\n",
       "      <td>106</td>\n",
       "      <td>2857</td>\n",
       "      <td>95.23</td>\n",
       "      <td>7.94</td>\n",
       "      <td>ic</td>\n",
       "      <td>NaN</td>\n",
       "      <td>NaN</td>\n",
       "      <td>NaN</td>\n",
       "      <td>left_only</td>\n",
       "    </tr>\n",
       "    <tr>\n",
       "      <th>61002</th>\n",
       "      <td>-2587565045309476867</td>\n",
       "      <td>user</td>\n",
       "      <td>en</td>\n",
       "      <td>3</td>\n",
       "      <td>8</td>\n",
       "      <td>0</td>\n",
       "      <td>0</td>\n",
       "      <td>0</td>\n",
       "      <td>0.0</td>\n",
       "      <td>0</td>\n",
       "      <td>...</td>\n",
       "      <td>True</td>\n",
       "      <td>699</td>\n",
       "      <td>3195</td>\n",
       "      <td>106.50</td>\n",
       "      <td>8.88</td>\n",
       "      <td>an</td>\n",
       "      <td>NaN</td>\n",
       "      <td>NaN</td>\n",
       "      <td>NaN</td>\n",
       "      <td>left_only</td>\n",
       "    </tr>\n",
       "    <tr>\n",
       "      <th>77694</th>\n",
       "      <td>-5031806439755542220</td>\n",
       "      <td>user</td>\n",
       "      <td>es</td>\n",
       "      <td>3</td>\n",
       "      <td>8</td>\n",
       "      <td>0</td>\n",
       "      <td>0</td>\n",
       "      <td>0</td>\n",
       "      <td>0.0</td>\n",
       "      <td>0</td>\n",
       "      <td>...</td>\n",
       "      <td>True</td>\n",
       "      <td>695</td>\n",
       "      <td>2856</td>\n",
       "      <td>95.20</td>\n",
       "      <td>7.93</td>\n",
       "      <td>ic</td>\n",
       "      <td>NaN</td>\n",
       "      <td>NaN</td>\n",
       "      <td>NaN</td>\n",
       "      <td>left_only</td>\n",
       "    </tr>\n",
       "  </tbody>\n",
       "</table>\n",
       "<p>3 rows × 27 columns</p>\n",
       "</div>"
      ],
      "text/plain": [
       "            identifierHash  type language  socialNbFollowers  socialNbFollows  \\\n",
       "1955  -8715033061566320444  user       es                  3                8   \n",
       "61002 -2587565045309476867  user       en                  3                8   \n",
       "77694 -5031806439755542220  user       es                  3                8   \n",
       "\n",
       "       socialProductsLiked  productsListed  productsSold  productsPassRate  \\\n",
       "1955                     0               1             1               0.0   \n",
       "61002                    0               0             0               0.0   \n",
       "77694                    0               0             0               0.0   \n",
       "\n",
       "       productsWished  ...  hasProfilePicture daysSinceLastLogin  seniority  \\\n",
       "1955                0  ...               True                106       2857   \n",
       "61002               0  ...               True                699       3195   \n",
       "77694               0  ...               True                695       2856   \n",
       "\n",
       "      seniorityAsMonths  seniorityAsYears  countryCode  country  region  \\\n",
       "1955              95.23              7.94           ic      NaN     NaN   \n",
       "61002            106.50              8.88           an      NaN     NaN   \n",
       "77694             95.20              7.93           ic      NaN     NaN   \n",
       "\n",
       "       sub-region     _merge  \n",
       "1955          NaN  left_only  \n",
       "61002         NaN  left_only  \n",
       "77694         NaN  left_only  \n",
       "\n",
       "[3 rows x 27 columns]"
      ]
     },
     "execution_count": 19,
     "metadata": {},
     "output_type": "execute_result"
    }
   ],
   "source": [
    "newdf[newdf['_merge'] != 'both']"
   ]
  },
  {
   "cell_type": "code",
   "execution_count": 20,
   "id": "3eb40723",
   "metadata": {},
   "outputs": [],
   "source": [
    "newdf = newdf.loc[newdf['_merge'] == 'both']"
   ]
  },
  {
   "cell_type": "code",
   "execution_count": 21,
   "id": "7759585a",
   "metadata": {},
   "outputs": [
    {
     "data": {
      "text/html": [
       "<div>\n",
       "<style scoped>\n",
       "    .dataframe tbody tr th:only-of-type {\n",
       "        vertical-align: middle;\n",
       "    }\n",
       "\n",
       "    .dataframe tbody tr th {\n",
       "        vertical-align: top;\n",
       "    }\n",
       "\n",
       "    .dataframe thead th {\n",
       "        text-align: right;\n",
       "    }\n",
       "</style>\n",
       "<table border=\"1\" class=\"dataframe\">\n",
       "  <thead>\n",
       "    <tr style=\"text-align: right;\">\n",
       "      <th></th>\n",
       "      <th>identifierHash</th>\n",
       "      <th>type</th>\n",
       "      <th>language</th>\n",
       "      <th>socialNbFollowers</th>\n",
       "      <th>socialNbFollows</th>\n",
       "      <th>socialProductsLiked</th>\n",
       "      <th>productsListed</th>\n",
       "      <th>productsSold</th>\n",
       "      <th>productsPassRate</th>\n",
       "      <th>productsWished</th>\n",
       "      <th>...</th>\n",
       "      <th>hasProfilePicture</th>\n",
       "      <th>daysSinceLastLogin</th>\n",
       "      <th>seniority</th>\n",
       "      <th>seniorityAsMonths</th>\n",
       "      <th>seniorityAsYears</th>\n",
       "      <th>countryCode</th>\n",
       "      <th>country</th>\n",
       "      <th>region</th>\n",
       "      <th>sub-region</th>\n",
       "      <th>_merge</th>\n",
       "    </tr>\n",
       "  </thead>\n",
       "  <tbody>\n",
       "    <tr>\n",
       "      <th>0</th>\n",
       "      <td>-1097895247965112460</td>\n",
       "      <td>user</td>\n",
       "      <td>en</td>\n",
       "      <td>147</td>\n",
       "      <td>10</td>\n",
       "      <td>77</td>\n",
       "      <td>26</td>\n",
       "      <td>174</td>\n",
       "      <td>74.0</td>\n",
       "      <td>104</td>\n",
       "      <td>...</td>\n",
       "      <td>True</td>\n",
       "      <td>11</td>\n",
       "      <td>3196</td>\n",
       "      <td>106.53</td>\n",
       "      <td>8.88</td>\n",
       "      <td>gb</td>\n",
       "      <td>United Kingdom of Great Britain and Northern I...</td>\n",
       "      <td>Europe</td>\n",
       "      <td>Northern Europe</td>\n",
       "      <td>both</td>\n",
       "    </tr>\n",
       "    <tr>\n",
       "      <th>1</th>\n",
       "      <td>2347567364561867620</td>\n",
       "      <td>user</td>\n",
       "      <td>en</td>\n",
       "      <td>167</td>\n",
       "      <td>8</td>\n",
       "      <td>2</td>\n",
       "      <td>19</td>\n",
       "      <td>170</td>\n",
       "      <td>99.0</td>\n",
       "      <td>0</td>\n",
       "      <td>...</td>\n",
       "      <td>True</td>\n",
       "      <td>12</td>\n",
       "      <td>3204</td>\n",
       "      <td>106.80</td>\n",
       "      <td>8.90</td>\n",
       "      <td>mc</td>\n",
       "      <td>Monaco</td>\n",
       "      <td>Europe</td>\n",
       "      <td>Western Europe</td>\n",
       "      <td>both</td>\n",
       "    </tr>\n",
       "    <tr>\n",
       "      <th>2</th>\n",
       "      <td>6870940546848049750</td>\n",
       "      <td>user</td>\n",
       "      <td>fr</td>\n",
       "      <td>137</td>\n",
       "      <td>13</td>\n",
       "      <td>60</td>\n",
       "      <td>33</td>\n",
       "      <td>163</td>\n",
       "      <td>94.0</td>\n",
       "      <td>10</td>\n",
       "      <td>...</td>\n",
       "      <td>False</td>\n",
       "      <td>11</td>\n",
       "      <td>3203</td>\n",
       "      <td>106.77</td>\n",
       "      <td>8.90</td>\n",
       "      <td>fr</td>\n",
       "      <td>France</td>\n",
       "      <td>Europe</td>\n",
       "      <td>Western Europe</td>\n",
       "      <td>both</td>\n",
       "    </tr>\n",
       "    <tr>\n",
       "      <th>3</th>\n",
       "      <td>-4640272621319568052</td>\n",
       "      <td>user</td>\n",
       "      <td>en</td>\n",
       "      <td>131</td>\n",
       "      <td>10</td>\n",
       "      <td>14</td>\n",
       "      <td>122</td>\n",
       "      <td>152</td>\n",
       "      <td>92.0</td>\n",
       "      <td>7</td>\n",
       "      <td>...</td>\n",
       "      <td>False</td>\n",
       "      <td>12</td>\n",
       "      <td>3198</td>\n",
       "      <td>106.60</td>\n",
       "      <td>8.88</td>\n",
       "      <td>us</td>\n",
       "      <td>United States of America</td>\n",
       "      <td>Americas</td>\n",
       "      <td>Northern America</td>\n",
       "      <td>both</td>\n",
       "    </tr>\n",
       "    <tr>\n",
       "      <th>4</th>\n",
       "      <td>-5175830994878542658</td>\n",
       "      <td>user</td>\n",
       "      <td>en</td>\n",
       "      <td>167</td>\n",
       "      <td>8</td>\n",
       "      <td>0</td>\n",
       "      <td>25</td>\n",
       "      <td>125</td>\n",
       "      <td>100.0</td>\n",
       "      <td>0</td>\n",
       "      <td>...</td>\n",
       "      <td>True</td>\n",
       "      <td>22</td>\n",
       "      <td>2854</td>\n",
       "      <td>95.13</td>\n",
       "      <td>7.93</td>\n",
       "      <td>us</td>\n",
       "      <td>United States of America</td>\n",
       "      <td>Americas</td>\n",
       "      <td>Northern America</td>\n",
       "      <td>both</td>\n",
       "    </tr>\n",
       "    <tr>\n",
       "      <th>...</th>\n",
       "      <td>...</td>\n",
       "      <td>...</td>\n",
       "      <td>...</td>\n",
       "      <td>...</td>\n",
       "      <td>...</td>\n",
       "      <td>...</td>\n",
       "      <td>...</td>\n",
       "      <td>...</td>\n",
       "      <td>...</td>\n",
       "      <td>...</td>\n",
       "      <td>...</td>\n",
       "      <td>...</td>\n",
       "      <td>...</td>\n",
       "      <td>...</td>\n",
       "      <td>...</td>\n",
       "      <td>...</td>\n",
       "      <td>...</td>\n",
       "      <td>...</td>\n",
       "      <td>...</td>\n",
       "      <td>...</td>\n",
       "      <td>...</td>\n",
       "    </tr>\n",
       "    <tr>\n",
       "      <th>98908</th>\n",
       "      <td>-5324380437900495747</td>\n",
       "      <td>user</td>\n",
       "      <td>fr</td>\n",
       "      <td>3</td>\n",
       "      <td>8</td>\n",
       "      <td>0</td>\n",
       "      <td>0</td>\n",
       "      <td>0</td>\n",
       "      <td>0.0</td>\n",
       "      <td>0</td>\n",
       "      <td>...</td>\n",
       "      <td>True</td>\n",
       "      <td>708</td>\n",
       "      <td>3204</td>\n",
       "      <td>106.80</td>\n",
       "      <td>8.90</td>\n",
       "      <td>us</td>\n",
       "      <td>United States of America</td>\n",
       "      <td>Americas</td>\n",
       "      <td>Northern America</td>\n",
       "      <td>both</td>\n",
       "    </tr>\n",
       "    <tr>\n",
       "      <th>98909</th>\n",
       "      <td>-5607668753771114442</td>\n",
       "      <td>user</td>\n",
       "      <td>fr</td>\n",
       "      <td>3</td>\n",
       "      <td>8</td>\n",
       "      <td>0</td>\n",
       "      <td>0</td>\n",
       "      <td>0</td>\n",
       "      <td>0.0</td>\n",
       "      <td>0</td>\n",
       "      <td>...</td>\n",
       "      <td>True</td>\n",
       "      <td>695</td>\n",
       "      <td>3204</td>\n",
       "      <td>106.80</td>\n",
       "      <td>8.90</td>\n",
       "      <td>fr</td>\n",
       "      <td>France</td>\n",
       "      <td>Europe</td>\n",
       "      <td>Western Europe</td>\n",
       "      <td>both</td>\n",
       "    </tr>\n",
       "    <tr>\n",
       "      <th>98910</th>\n",
       "      <td>350630276238833248</td>\n",
       "      <td>user</td>\n",
       "      <td>en</td>\n",
       "      <td>3</td>\n",
       "      <td>8</td>\n",
       "      <td>0</td>\n",
       "      <td>0</td>\n",
       "      <td>0</td>\n",
       "      <td>0.0</td>\n",
       "      <td>0</td>\n",
       "      <td>...</td>\n",
       "      <td>True</td>\n",
       "      <td>520</td>\n",
       "      <td>3204</td>\n",
       "      <td>106.80</td>\n",
       "      <td>8.90</td>\n",
       "      <td>be</td>\n",
       "      <td>Belgium</td>\n",
       "      <td>Europe</td>\n",
       "      <td>Western Europe</td>\n",
       "      <td>both</td>\n",
       "    </tr>\n",
       "    <tr>\n",
       "      <th>98911</th>\n",
       "      <td>2006580738726207028</td>\n",
       "      <td>user</td>\n",
       "      <td>it</td>\n",
       "      <td>3</td>\n",
       "      <td>8</td>\n",
       "      <td>0</td>\n",
       "      <td>0</td>\n",
       "      <td>0</td>\n",
       "      <td>0.0</td>\n",
       "      <td>0</td>\n",
       "      <td>...</td>\n",
       "      <td>True</td>\n",
       "      <td>267</td>\n",
       "      <td>3204</td>\n",
       "      <td>106.80</td>\n",
       "      <td>8.90</td>\n",
       "      <td>it</td>\n",
       "      <td>Italy</td>\n",
       "      <td>Europe</td>\n",
       "      <td>Southern Europe</td>\n",
       "      <td>both</td>\n",
       "    </tr>\n",
       "    <tr>\n",
       "      <th>98912</th>\n",
       "      <td>-7621316584087253691</td>\n",
       "      <td>user</td>\n",
       "      <td>fr</td>\n",
       "      <td>3</td>\n",
       "      <td>8</td>\n",
       "      <td>0</td>\n",
       "      <td>0</td>\n",
       "      <td>0</td>\n",
       "      <td>0.0</td>\n",
       "      <td>0</td>\n",
       "      <td>...</td>\n",
       "      <td>True</td>\n",
       "      <td>561</td>\n",
       "      <td>3204</td>\n",
       "      <td>106.80</td>\n",
       "      <td>8.90</td>\n",
       "      <td>gn</td>\n",
       "      <td>Guinea</td>\n",
       "      <td>Africa</td>\n",
       "      <td>Sub-Saharan Africa</td>\n",
       "      <td>both</td>\n",
       "    </tr>\n",
       "  </tbody>\n",
       "</table>\n",
       "<p>98910 rows × 27 columns</p>\n",
       "</div>"
      ],
      "text/plain": [
       "            identifierHash  type language  socialNbFollowers  socialNbFollows  \\\n",
       "0     -1097895247965112460  user       en                147               10   \n",
       "1      2347567364561867620  user       en                167                8   \n",
       "2      6870940546848049750  user       fr                137               13   \n",
       "3     -4640272621319568052  user       en                131               10   \n",
       "4     -5175830994878542658  user       en                167                8   \n",
       "...                    ...   ...      ...                ...              ...   \n",
       "98908 -5324380437900495747  user       fr                  3                8   \n",
       "98909 -5607668753771114442  user       fr                  3                8   \n",
       "98910   350630276238833248  user       en                  3                8   \n",
       "98911  2006580738726207028  user       it                  3                8   \n",
       "98912 -7621316584087253691  user       fr                  3                8   \n",
       "\n",
       "       socialProductsLiked  productsListed  productsSold  productsPassRate  \\\n",
       "0                       77              26           174              74.0   \n",
       "1                        2              19           170              99.0   \n",
       "2                       60              33           163              94.0   \n",
       "3                       14             122           152              92.0   \n",
       "4                        0              25           125             100.0   \n",
       "...                    ...             ...           ...               ...   \n",
       "98908                    0               0             0               0.0   \n",
       "98909                    0               0             0               0.0   \n",
       "98910                    0               0             0               0.0   \n",
       "98911                    0               0             0               0.0   \n",
       "98912                    0               0             0               0.0   \n",
       "\n",
       "       productsWished  ...  hasProfilePicture daysSinceLastLogin  seniority  \\\n",
       "0                 104  ...               True                 11       3196   \n",
       "1                   0  ...               True                 12       3204   \n",
       "2                  10  ...              False                 11       3203   \n",
       "3                   7  ...              False                 12       3198   \n",
       "4                   0  ...               True                 22       2854   \n",
       "...               ...  ...                ...                ...        ...   \n",
       "98908               0  ...               True                708       3204   \n",
       "98909               0  ...               True                695       3204   \n",
       "98910               0  ...               True                520       3204   \n",
       "98911               0  ...               True                267       3204   \n",
       "98912               0  ...               True                561       3204   \n",
       "\n",
       "      seniorityAsMonths  seniorityAsYears  countryCode  \\\n",
       "0                106.53              8.88           gb   \n",
       "1                106.80              8.90           mc   \n",
       "2                106.77              8.90           fr   \n",
       "3                106.60              8.88           us   \n",
       "4                 95.13              7.93           us   \n",
       "...                 ...               ...          ...   \n",
       "98908            106.80              8.90           us   \n",
       "98909            106.80              8.90           fr   \n",
       "98910            106.80              8.90           be   \n",
       "98911            106.80              8.90           it   \n",
       "98912            106.80              8.90           gn   \n",
       "\n",
       "                                                 country    region  \\\n",
       "0      United Kingdom of Great Britain and Northern I...    Europe   \n",
       "1                                                 Monaco    Europe   \n",
       "2                                                 France    Europe   \n",
       "3                               United States of America  Americas   \n",
       "4                               United States of America  Americas   \n",
       "...                                                  ...       ...   \n",
       "98908                           United States of America  Americas   \n",
       "98909                                             France    Europe   \n",
       "98910                                            Belgium    Europe   \n",
       "98911                                              Italy    Europe   \n",
       "98912                                             Guinea    Africa   \n",
       "\n",
       "               sub-region  _merge  \n",
       "0         Northern Europe    both  \n",
       "1          Western Europe    both  \n",
       "2          Western Europe    both  \n",
       "3        Northern America    both  \n",
       "4        Northern America    both  \n",
       "...                   ...     ...  \n",
       "98908    Northern America    both  \n",
       "98909      Western Europe    both  \n",
       "98910      Western Europe    both  \n",
       "98911     Southern Europe    both  \n",
       "98912  Sub-Saharan Africa    both  \n",
       "\n",
       "[98910 rows x 27 columns]"
      ]
     },
     "execution_count": 21,
     "metadata": {},
     "output_type": "execute_result"
    }
   ],
   "source": [
    "newdf"
   ]
  },
  {
   "cell_type": "markdown",
   "id": "28b59533",
   "metadata": {},
   "source": [
    "# EDA"
   ]
  },
  {
   "cell_type": "markdown",
   "id": "5c71c042",
   "metadata": {},
   "source": [
    "Even though we still have some redundant columns, we can visualize a few of those columns and extract insights before dropping them. Creating a correlation plot allows us to see if there are any relationships that stand out. "
   ]
  },
  {
   "cell_type": "markdown",
   "id": "a656e529",
   "metadata": {},
   "source": [
    "From our correlation plot we see that:"
   ]
  },
  {
   "cell_type": "markdown",
   "id": "8cdc8cae",
   "metadata": {},
   "source": [
    "   -Users with more followers tend to be more active as they follow more users and generally       like, list, wish, and have more products pass the store's inspection"
   ]
  },
  {
   "cell_type": "markdown",
   "id": "a6f8f21d",
   "metadata": {},
   "source": [
    "-Profile picture status correlates inversely with most other features, particularly the social features"
   ]
  },
  {
   "cell_type": "markdown",
   "id": "df90e875",
   "metadata": {},
   "source": [
    "-The social features generally correlate positively with one another, hinting at the fact that the users do actually want and use those features "
   ]
  },
  {
   "cell_type": "code",
   "execution_count": 22,
   "id": "7cdf2b13",
   "metadata": {},
   "outputs": [
    {
     "data": {
      "text/plain": [
       "<AxesSubplot:>"
      ]
     },
     "execution_count": 22,
     "metadata": {},
     "output_type": "execute_result"
    },
    {
     "data": {
      "image/png": "[encoded data removed]",
      "text/plain": [
       "<Figure size 792x648 with 2 Axes>"
      ]
     },
     "metadata": {
      "needs_background": "light"
     },
     "output_type": "display_data"
    }
   ],
   "source": [
    "corr = newdf.corr()\n",
    "mask = np.triu(np.ones_like(corr, dtype=bool))\n",
    "f, ax = plt.subplots(figsize=(11,9))\n",
    "cmap = sns.diverging_palette(230, 20, as_cmap = True)\n",
    "sns.heatmap(corr, mask=mask, cmap=cmap, vmax=.3, center=0,\n",
    "            square=True, linewidths=.5, cbar_kws={\"shrink\": .5})"
   ]
  },
  {
   "cell_type": "markdown",
   "id": "c5cb0e07",
   "metadata": {},
   "source": [
    "Looking at the 'hasAnyApp' column, we can try to see if the app has any influence in terms of users buying and selling. "
   ]
  },
  {
   "cell_type": "markdown",
   "id": "6b0041e2",
   "metadata": {},
   "source": [
    "Users without the app appear to buy more than twice as much as they sell, while users with at least one app tend to buy and sell products at similar quanities. If the company is looking to get more users to sell products, they could look into promoting the app to users that do not use either app. This may be a sign that the app is much easier to use for selling items than on a computer. It could also be that computers are more difficult to purchase in lower income countries than a smartphone so the app provides easier access in those countries. "
   ]
  },
  {
   "cell_type": "code",
   "execution_count": 23,
   "id": "6c0501da",
   "metadata": {},
   "outputs": [
    {
     "data": {
      "text/html": [
       "<div>\n",
       "<style scoped>\n",
       "    .dataframe tbody tr th:only-of-type {\n",
       "        vertical-align: middle;\n",
       "    }\n",
       "\n",
       "    .dataframe tbody tr th {\n",
       "        vertical-align: top;\n",
       "    }\n",
       "\n",
       "    .dataframe thead th {\n",
       "        text-align: right;\n",
       "    }\n",
       "</style>\n",
       "<table border=\"1\" class=\"dataframe\">\n",
       "  <thead>\n",
       "    <tr style=\"text-align: right;\">\n",
       "      <th></th>\n",
       "      <th>productsSold</th>\n",
       "      <th>productsBought</th>\n",
       "    </tr>\n",
       "    <tr>\n",
       "      <th>hasAnyApp</th>\n",
       "      <th></th>\n",
       "      <th></th>\n",
       "    </tr>\n",
       "  </thead>\n",
       "  <tbody>\n",
       "    <tr>\n",
       "      <th>False</th>\n",
       "      <td>3232</td>\n",
       "      <td>7957</td>\n",
       "    </tr>\n",
       "    <tr>\n",
       "      <th>True</th>\n",
       "      <td>8794</td>\n",
       "      <td>9049</td>\n",
       "    </tr>\n",
       "  </tbody>\n",
       "</table>\n",
       "</div>"
      ],
      "text/plain": [
       "           productsSold  productsBought\n",
       "hasAnyApp                              \n",
       "False              3232            7957\n",
       "True               8794            9049"
      ]
     },
     "execution_count": 23,
     "metadata": {},
     "output_type": "execute_result"
    }
   ],
   "source": [
    "app_sb = newdf[['hasAnyApp','productsSold','productsBought']]\n",
    "app_sb = app_sb.groupby(['hasAnyApp']).sum()\n",
    "app_sb"
   ]
  },
  {
   "cell_type": "code",
   "execution_count": 24,
   "id": "555cb7a6",
   "metadata": {},
   "outputs": [
    {
     "data": {
      "image/png": "[encoded data removed]",
      "text/plain": [
       "<Figure size 432x288 with 1 Axes>"
      ]
     },
     "metadata": {
      "needs_background": "light"
     },
     "output_type": "display_data"
    }
   ],
   "source": [
    "plt.bar(['False','True'], app_sb['productsSold'])\n",
    "plt.xlabel('Has Any App')\n",
    "plt.ylabel('Products Sold')\n",
    "plt.show()"
   ]
  },
  {
   "cell_type": "code",
   "execution_count": 25,
   "id": "0e59f3ba",
   "metadata": {},
   "outputs": [
    {
     "data": {
      "image/png": "[encoded data removed]",
      "text/plain": [
       "<Figure size 432x288 with 1 Axes>"
      ]
     },
     "metadata": {
      "needs_background": "light"
     },
     "output_type": "display_data"
    }
   ],
   "source": [
    "plt.bar(['False','True'], app_sb['productsBought'])\n",
    "plt.xlabel('Has Any App')\n",
    "plt.ylabel('Products Bought')\n",
    "plt.show()"
   ]
  },
  {
   "cell_type": "markdown",
   "id": "60022784",
   "metadata": {},
   "source": [
    "Looking at app users by country and language, we see that the countries with the most users are western European along with the United States and Australia. Similarly, we see that the top languages are represented in the dataset coincide with the top countries as English, French, Italian, German, and Spanish as the top 5 user languages, in order. This is not entirely surprising as this is a French company. We can also look at this from another perspective and acknowledge that this may be due to the larger popuations these countries have than other countries represented in this dataset; or it is due to higher median incomes in these countries which translates to more users buying/selling more items, or even affording a smartphone in the first place.\n"
   ]
  },
  {
   "cell_type": "code",
   "execution_count": 26,
   "id": "6235657f",
   "metadata": {},
   "outputs": [],
   "source": [
    "app_c = newdf.loc[newdf['hasAnyApp'] == True][['hasAnyApp','country']]"
   ]
  },
  {
   "cell_type": "code",
   "execution_count": 27,
   "id": "175fcf8a",
   "metadata": {},
   "outputs": [
    {
     "name": "stderr",
     "output_type": "stream",
     "text": [
      "C:\\Users\\jvasq\\anaconda3\\lib\\site-packages\\seaborn\\_decorators.py:43: FutureWarning:\n",
      "\n",
      "Pass the following variables as keyword args: x, y. From version 0.12, the only valid positional argument will be `data`, and passing other arguments without an explicit keyword will result in an error or misinterpretation.\n",
      "\n"
     ]
    },
    {
     "data": {
      "text/plain": [
       "[Text(0.5, 0, 'Country'), Text(0, 0.5, 'Users')]"
      ]
     },
     "execution_count": 27,
     "metadata": {},
     "output_type": "execute_result"
    },
    {
     "data": {
      "image/png": "[encoded data removed]",
      "text/plain": [
       "<Figure size 1440x360 with 1 Axes>"
      ]
     },
     "metadata": {
      "needs_background": "light"
     },
     "output_type": "display_data"
    }
   ],
   "source": [
    "fig, ac = plt.subplots(figsize=(20,5))\n",
    "ac = sns.barplot(app_c['country'].value_counts().head(10).index, app_c['country'].value_counts().head(10), ax = ac)\n",
    "ac.set(xlabel = 'Country', ylabel = 'Users')"
   ]
  },
  {
   "cell_type": "code",
   "execution_count": 28,
   "id": "042a657d",
   "metadata": {},
   "outputs": [],
   "source": [
    "app_l = newdf.loc[newdf['hasAnyApp'] == True][['hasAnyApp','language']]"
   ]
  },
  {
   "cell_type": "code",
   "execution_count": 29,
   "id": "e6291a32",
   "metadata": {},
   "outputs": [
    {
     "name": "stderr",
     "output_type": "stream",
     "text": [
      "C:\\Users\\jvasq\\anaconda3\\lib\\site-packages\\seaborn\\_decorators.py:43: FutureWarning:\n",
      "\n",
      "Pass the following variables as keyword args: x, y. From version 0.12, the only valid positional argument will be `data`, and passing other arguments without an explicit keyword will result in an error or misinterpretation.\n",
      "\n"
     ]
    },
    {
     "data": {
      "text/plain": [
       "[Text(0.5, 0, 'Language'), Text(0, 0.5, '# of Users')]"
      ]
     },
     "execution_count": 29,
     "metadata": {},
     "output_type": "execute_result"
    },
    {
     "data": {
      "image/png": "[encoded data removed]",
      "text/plain": [
       "<Figure size 1080x360 with 1 Axes>"
      ]
     },
     "metadata": {
      "needs_background": "light"
     },
     "output_type": "display_data"
    }
   ],
   "source": [
    "fig, al = plt.subplots(figsize=(15,5))\n",
    "al = sns.barplot(app_l['language'].value_counts().index, app_l['language'].value_counts(), ax = al)\n",
    "al.set(xlabel = 'Language', ylabel = '# of Users') "
   ]
  },
  {
   "cell_type": "markdown",
   "id": "0fcf3f58",
   "metadata": {},
   "source": [
    "We can also visualize the buying/selling tendencies by title. Women can identify as Mrs. or Miss based on their marriage status, but unfortunately we don't have a similar indicator for men. However, we see that married women account for a large majority of both products bought and sold. If the company wants to create more parity in their demographics, they could try targeting more ads to males as well as spotlighting/promoting active male sellers to males and married women (to purchase for their husbands or to suggest they use the app). "
   ]
  },
  {
   "cell_type": "code",
   "execution_count": 30,
   "id": "2adaff46",
   "metadata": {},
   "outputs": [
    {
     "data": {
      "text/html": [
       "<div>\n",
       "<style scoped>\n",
       "    .dataframe tbody tr th:only-of-type {\n",
       "        vertical-align: middle;\n",
       "    }\n",
       "\n",
       "    .dataframe tbody tr th {\n",
       "        vertical-align: top;\n",
       "    }\n",
       "\n",
       "    .dataframe thead th {\n",
       "        text-align: right;\n",
       "    }\n",
       "</style>\n",
       "<table border=\"1\" class=\"dataframe\">\n",
       "  <thead>\n",
       "    <tr style=\"text-align: right;\">\n",
       "      <th></th>\n",
       "      <th>civilityTitle</th>\n",
       "      <th>productsSold</th>\n",
       "      <th>productsBought</th>\n",
       "    </tr>\n",
       "  </thead>\n",
       "  <tbody>\n",
       "    <tr>\n",
       "      <th>0</th>\n",
       "      <td>miss</td>\n",
       "      <td>574</td>\n",
       "      <td>287</td>\n",
       "    </tr>\n",
       "    <tr>\n",
       "      <th>1</th>\n",
       "      <td>mr</td>\n",
       "      <td>2673</td>\n",
       "      <td>4262</td>\n",
       "    </tr>\n",
       "    <tr>\n",
       "      <th>2</th>\n",
       "      <td>mrs</td>\n",
       "      <td>8779</td>\n",
       "      <td>12457</td>\n",
       "    </tr>\n",
       "  </tbody>\n",
       "</table>\n",
       "</div>"
      ],
      "text/plain": [
       "  civilityTitle  productsSold  productsBought\n",
       "0          miss           574             287\n",
       "1            mr          2673            4262\n",
       "2           mrs          8779           12457"
      ]
     },
     "execution_count": 30,
     "metadata": {},
     "output_type": "execute_result"
    }
   ],
   "source": [
    "app_ms = newdf[['civilityTitle','productsSold','productsBought']]\n",
    "app_ms = app_ms.groupby(['civilityTitle']).sum().reset_index()\n",
    "app_ms"
   ]
  },
  {
   "cell_type": "code",
   "execution_count": 31,
   "id": "428b2344",
   "metadata": {},
   "outputs": [
    {
     "name": "stderr",
     "output_type": "stream",
     "text": [
      "C:\\Users\\jvasq\\anaconda3\\lib\\site-packages\\seaborn\\_decorators.py:43: FutureWarning:\n",
      "\n",
      "Pass the following variables as keyword args: x, y. From version 0.12, the only valid positional argument will be `data`, and passing other arguments without an explicit keyword will result in an error or misinterpretation.\n",
      "\n"
     ]
    },
    {
     "data": {
      "text/plain": [
       "[Text(0.5, 0, 'Title'), Text(0, 0.5, 'Products Sold')]"
      ]
     },
     "execution_count": 31,
     "metadata": {},
     "output_type": "execute_result"
    },
    {
     "data": {
      "image/png": "[encoded data removed]",
      "text/plain": [
       "<Figure size 360x360 with 1 Axes>"
      ]
     },
     "metadata": {
      "needs_background": "light"
     },
     "output_type": "display_data"
    }
   ],
   "source": [
    "fig, am = plt.subplots(figsize=(5,5))\n",
    "am = sns.barplot(app_ms['civilityTitle'], app_ms['productsSold'], ax = am)\n",
    "am.set(xlabel= 'Title', ylabel= 'Products Sold')"
   ]
  },
  {
   "cell_type": "code",
   "execution_count": 32,
   "id": "d3b98d2c",
   "metadata": {},
   "outputs": [
    {
     "name": "stderr",
     "output_type": "stream",
     "text": [
      "C:\\Users\\jvasq\\anaconda3\\lib\\site-packages\\seaborn\\_decorators.py:43: FutureWarning:\n",
      "\n",
      "Pass the following variables as keyword args: x, y. From version 0.12, the only valid positional argument will be `data`, and passing other arguments without an explicit keyword will result in an error or misinterpretation.\n",
      "\n"
     ]
    },
    {
     "data": {
      "text/plain": [
       "[Text(0.5, 0, 'Title'), Text(0, 0.5, 'Products Bought')]"
      ]
     },
     "execution_count": 32,
     "metadata": {},
     "output_type": "execute_result"
    },
    {
     "data": {
      "image/png": "[encoded data removed]",
      "text/plain": [
       "<Figure size 360x360 with 1 Axes>"
      ]
     },
     "metadata": {
      "needs_background": "light"
     },
     "output_type": "display_data"
    }
   ],
   "source": [
    "fig, ab = plt.subplots(figsize=(5,5))\n",
    "ab = sns.barplot(app_ms['civilityTitle'], app_ms['productsBought'], ax = ab)\n",
    "ab.set(xlabel= 'Title', ylabel= 'Products Bought')"
   ]
  },
  {
   "cell_type": "markdown",
   "id": "c93600bc",
   "metadata": {},
   "source": [
    "As mentioned above, we have redundant columns so we will go ahead and drop those columns after we have examined them."
   ]
  },
  {
   "cell_type": "code",
   "execution_count": 33,
   "id": "650dba3a",
   "metadata": {},
   "outputs": [
    {
     "data": {
      "text/html": [
       "<div>\n",
       "<style scoped>\n",
       "    .dataframe tbody tr th:only-of-type {\n",
       "        vertical-align: middle;\n",
       "    }\n",
       "\n",
       "    .dataframe tbody tr th {\n",
       "        vertical-align: top;\n",
       "    }\n",
       "\n",
       "    .dataframe thead th {\n",
       "        text-align: right;\n",
       "    }\n",
       "</style>\n",
       "<table border=\"1\" class=\"dataframe\">\n",
       "  <thead>\n",
       "    <tr style=\"text-align: right;\">\n",
       "      <th></th>\n",
       "      <th>language</th>\n",
       "      <th>socialNbFollowers</th>\n",
       "      <th>socialNbFollows</th>\n",
       "      <th>socialProductsLiked</th>\n",
       "      <th>productsListed</th>\n",
       "      <th>productsSold</th>\n",
       "      <th>productsPassRate</th>\n",
       "      <th>productsWished</th>\n",
       "      <th>productsBought</th>\n",
       "      <th>gender</th>\n",
       "      <th>hasAndroidApp</th>\n",
       "      <th>hasIosApp</th>\n",
       "      <th>hasProfilePicture</th>\n",
       "      <th>daysSinceLastLogin</th>\n",
       "      <th>seniorityAsYears</th>\n",
       "      <th>region</th>\n",
       "      <th>sub-region</th>\n",
       "    </tr>\n",
       "  </thead>\n",
       "  <tbody>\n",
       "    <tr>\n",
       "      <th>0</th>\n",
       "      <td>en</td>\n",
       "      <td>147</td>\n",
       "      <td>10</td>\n",
       "      <td>77</td>\n",
       "      <td>26</td>\n",
       "      <td>174</td>\n",
       "      <td>74.0</td>\n",
       "      <td>104</td>\n",
       "      <td>1</td>\n",
       "      <td>M</td>\n",
       "      <td>False</td>\n",
       "      <td>True</td>\n",
       "      <td>True</td>\n",
       "      <td>11</td>\n",
       "      <td>8.88</td>\n",
       "      <td>Europe</td>\n",
       "      <td>Northern Europe</td>\n",
       "    </tr>\n",
       "    <tr>\n",
       "      <th>1</th>\n",
       "      <td>en</td>\n",
       "      <td>167</td>\n",
       "      <td>8</td>\n",
       "      <td>2</td>\n",
       "      <td>19</td>\n",
       "      <td>170</td>\n",
       "      <td>99.0</td>\n",
       "      <td>0</td>\n",
       "      <td>0</td>\n",
       "      <td>F</td>\n",
       "      <td>False</td>\n",
       "      <td>True</td>\n",
       "      <td>True</td>\n",
       "      <td>12</td>\n",
       "      <td>8.90</td>\n",
       "      <td>Europe</td>\n",
       "      <td>Western Europe</td>\n",
       "    </tr>\n",
       "    <tr>\n",
       "      <th>2</th>\n",
       "      <td>fr</td>\n",
       "      <td>137</td>\n",
       "      <td>13</td>\n",
       "      <td>60</td>\n",
       "      <td>33</td>\n",
       "      <td>163</td>\n",
       "      <td>94.0</td>\n",
       "      <td>10</td>\n",
       "      <td>3</td>\n",
       "      <td>F</td>\n",
       "      <td>False</td>\n",
       "      <td>True</td>\n",
       "      <td>False</td>\n",
       "      <td>11</td>\n",
       "      <td>8.90</td>\n",
       "      <td>Europe</td>\n",
       "      <td>Western Europe</td>\n",
       "    </tr>\n",
       "    <tr>\n",
       "      <th>3</th>\n",
       "      <td>en</td>\n",
       "      <td>131</td>\n",
       "      <td>10</td>\n",
       "      <td>14</td>\n",
       "      <td>122</td>\n",
       "      <td>152</td>\n",
       "      <td>92.0</td>\n",
       "      <td>7</td>\n",
       "      <td>0</td>\n",
       "      <td>F</td>\n",
       "      <td>False</td>\n",
       "      <td>True</td>\n",
       "      <td>False</td>\n",
       "      <td>12</td>\n",
       "      <td>8.88</td>\n",
       "      <td>Americas</td>\n",
       "      <td>Northern America</td>\n",
       "    </tr>\n",
       "    <tr>\n",
       "      <th>4</th>\n",
       "      <td>en</td>\n",
       "      <td>167</td>\n",
       "      <td>8</td>\n",
       "      <td>0</td>\n",
       "      <td>25</td>\n",
       "      <td>125</td>\n",
       "      <td>100.0</td>\n",
       "      <td>0</td>\n",
       "      <td>0</td>\n",
       "      <td>F</td>\n",
       "      <td>False</td>\n",
       "      <td>False</td>\n",
       "      <td>True</td>\n",
       "      <td>22</td>\n",
       "      <td>7.93</td>\n",
       "      <td>Americas</td>\n",
       "      <td>Northern America</td>\n",
       "    </tr>\n",
       "    <tr>\n",
       "      <th>...</th>\n",
       "      <td>...</td>\n",
       "      <td>...</td>\n",
       "      <td>...</td>\n",
       "      <td>...</td>\n",
       "      <td>...</td>\n",
       "      <td>...</td>\n",
       "      <td>...</td>\n",
       "      <td>...</td>\n",
       "      <td>...</td>\n",
       "      <td>...</td>\n",
       "      <td>...</td>\n",
       "      <td>...</td>\n",
       "      <td>...</td>\n",
       "      <td>...</td>\n",
       "      <td>...</td>\n",
       "      <td>...</td>\n",
       "      <td>...</td>\n",
       "    </tr>\n",
       "    <tr>\n",
       "      <th>98908</th>\n",
       "      <td>fr</td>\n",
       "      <td>3</td>\n",
       "      <td>8</td>\n",
       "      <td>0</td>\n",
       "      <td>0</td>\n",
       "      <td>0</td>\n",
       "      <td>0.0</td>\n",
       "      <td>0</td>\n",
       "      <td>0</td>\n",
       "      <td>M</td>\n",
       "      <td>False</td>\n",
       "      <td>False</td>\n",
       "      <td>True</td>\n",
       "      <td>708</td>\n",
       "      <td>8.90</td>\n",
       "      <td>Americas</td>\n",
       "      <td>Northern America</td>\n",
       "    </tr>\n",
       "    <tr>\n",
       "      <th>98909</th>\n",
       "      <td>fr</td>\n",
       "      <td>3</td>\n",
       "      <td>8</td>\n",
       "      <td>0</td>\n",
       "      <td>0</td>\n",
       "      <td>0</td>\n",
       "      <td>0.0</td>\n",
       "      <td>0</td>\n",
       "      <td>0</td>\n",
       "      <td>M</td>\n",
       "      <td>False</td>\n",
       "      <td>True</td>\n",
       "      <td>True</td>\n",
       "      <td>695</td>\n",
       "      <td>8.90</td>\n",
       "      <td>Europe</td>\n",
       "      <td>Western Europe</td>\n",
       "    </tr>\n",
       "    <tr>\n",
       "      <th>98910</th>\n",
       "      <td>en</td>\n",
       "      <td>3</td>\n",
       "      <td>8</td>\n",
       "      <td>0</td>\n",
       "      <td>0</td>\n",
       "      <td>0</td>\n",
       "      <td>0.0</td>\n",
       "      <td>0</td>\n",
       "      <td>0</td>\n",
       "      <td>M</td>\n",
       "      <td>True</td>\n",
       "      <td>False</td>\n",
       "      <td>True</td>\n",
       "      <td>520</td>\n",
       "      <td>8.90</td>\n",
       "      <td>Europe</td>\n",
       "      <td>Western Europe</td>\n",
       "    </tr>\n",
       "    <tr>\n",
       "      <th>98911</th>\n",
       "      <td>it</td>\n",
       "      <td>3</td>\n",
       "      <td>8</td>\n",
       "      <td>0</td>\n",
       "      <td>0</td>\n",
       "      <td>0</td>\n",
       "      <td>0.0</td>\n",
       "      <td>0</td>\n",
       "      <td>0</td>\n",
       "      <td>F</td>\n",
       "      <td>False</td>\n",
       "      <td>False</td>\n",
       "      <td>True</td>\n",
       "      <td>267</td>\n",
       "      <td>8.90</td>\n",
       "      <td>Europe</td>\n",
       "      <td>Southern Europe</td>\n",
       "    </tr>\n",
       "    <tr>\n",
       "      <th>98912</th>\n",
       "      <td>fr</td>\n",
       "      <td>3</td>\n",
       "      <td>8</td>\n",
       "      <td>0</td>\n",
       "      <td>0</td>\n",
       "      <td>0</td>\n",
       "      <td>0.0</td>\n",
       "      <td>0</td>\n",
       "      <td>0</td>\n",
       "      <td>M</td>\n",
       "      <td>False</td>\n",
       "      <td>True</td>\n",
       "      <td>True</td>\n",
       "      <td>561</td>\n",
       "      <td>8.90</td>\n",
       "      <td>Africa</td>\n",
       "      <td>Sub-Saharan Africa</td>\n",
       "    </tr>\n",
       "  </tbody>\n",
       "</table>\n",
       "<p>98910 rows × 17 columns</p>\n",
       "</div>"
      ],
      "text/plain": [
       "      language  socialNbFollowers  socialNbFollows  socialProductsLiked  \\\n",
       "0           en                147               10                   77   \n",
       "1           en                167                8                    2   \n",
       "2           fr                137               13                   60   \n",
       "3           en                131               10                   14   \n",
       "4           en                167                8                    0   \n",
       "...        ...                ...              ...                  ...   \n",
       "98908       fr                  3                8                    0   \n",
       "98909       fr                  3                8                    0   \n",
       "98910       en                  3                8                    0   \n",
       "98911       it                  3                8                    0   \n",
       "98912       fr                  3                8                    0   \n",
       "\n",
       "       productsListed  productsSold  productsPassRate  productsWished  \\\n",
       "0                  26           174              74.0             104   \n",
       "1                  19           170              99.0               0   \n",
       "2                  33           163              94.0              10   \n",
       "3                 122           152              92.0               7   \n",
       "4                  25           125             100.0               0   \n",
       "...               ...           ...               ...             ...   \n",
       "98908               0             0               0.0               0   \n",
       "98909               0             0               0.0               0   \n",
       "98910               0             0               0.0               0   \n",
       "98911               0             0               0.0               0   \n",
       "98912               0             0               0.0               0   \n",
       "\n",
       "       productsBought gender  hasAndroidApp  hasIosApp  hasProfilePicture  \\\n",
       "0                   1      M          False       True               True   \n",
       "1                   0      F          False       True               True   \n",
       "2                   3      F          False       True              False   \n",
       "3                   0      F          False       True              False   \n",
       "4                   0      F          False      False               True   \n",
       "...               ...    ...            ...        ...                ...   \n",
       "98908               0      M          False      False               True   \n",
       "98909               0      M          False       True               True   \n",
       "98910               0      M           True      False               True   \n",
       "98911               0      F          False      False               True   \n",
       "98912               0      M          False       True               True   \n",
       "\n",
       "       daysSinceLastLogin  seniorityAsYears    region          sub-region  \n",
       "0                      11              8.88    Europe     Northern Europe  \n",
       "1                      12              8.90    Europe      Western Europe  \n",
       "2                      11              8.90    Europe      Western Europe  \n",
       "3                      12              8.88  Americas    Northern America  \n",
       "4                      22              7.93  Americas    Northern America  \n",
       "...                   ...               ...       ...                 ...  \n",
       "98908                 708              8.90  Americas    Northern America  \n",
       "98909                 695              8.90    Europe      Western Europe  \n",
       "98910                 520              8.90    Europe      Western Europe  \n",
       "98911                 267              8.90    Europe     Southern Europe  \n",
       "98912                 561              8.90    Africa  Sub-Saharan Africa  \n",
       "\n",
       "[98910 rows x 17 columns]"
      ]
     },
     "execution_count": 33,
     "metadata": {},
     "output_type": "execute_result"
    }
   ],
   "source": [
    "ndf = newdf.drop(['identifierHash','type','civilityTitle','civilityGenderId','hasAnyApp','country','countryCode','seniority','seniorityAsMonths','_merge'], axis=1)\n",
    "ndf"
   ]
  },
  {
   "cell_type": "markdown",
   "id": "02a5da3b",
   "metadata": {},
   "source": [
    "I then create lists for the columns based on their data type, one for numerical columns and another for categorical columns."
   ]
  },
  {
   "cell_type": "code",
   "execution_count": 34,
   "id": "976b51fe",
   "metadata": {},
   "outputs": [
    {
     "name": "stdout",
     "output_type": "stream",
     "text": [
      "Cat cols:  ['language', 'gender', 'hasAndroidApp', 'hasIosApp', 'hasProfilePicture', 'region', 'sub-region']\n",
      "Num cols:  ['socialNbFollowers', 'socialNbFollows', 'socialProductsLiked', 'productsListed', 'productsSold', 'productsPassRate', 'productsWished', 'productsBought', 'daysSinceLastLogin', 'seniorityAsYears']\n"
     ]
    }
   ],
   "source": [
    "cat_cols = []\n",
    "num_cols = [] \n",
    "for col in ndf.columns:\n",
    "    if (ndf[col].dtype == 'O') | (ndf[col].dtype == 'bool'):\n",
    "        cat_cols.append(col)\n",
    "    else:\n",
    "        num_cols.append(col)\n",
    "        \n",
    "print('Cat cols: ',cat_cols)\n",
    "print('Num cols: ',num_cols)"
   ]
  },
  {
   "cell_type": "markdown",
   "id": "7d8bf983",
   "metadata": {},
   "source": [
    "After separating our data into categorical and numerical values, we can easily visualize the numerical values by making a histogram for each column. At first glance, we see that for most of these columns the values are skewed towards the lower end of the values. Revisiting the numerical description of our dataset, we see that most of these columns have max values that are much greater than the average so a few outliers are skewing the histograms."
   ]
  },
  {
   "cell_type": "code",
   "execution_count": 35,
   "id": "364a2eb9",
   "metadata": {},
   "outputs": [
    {
     "data": {
      "image/png": "[encoded data removed]",
      "text/plain": [
       "<Figure size 432x288 with 1 Axes>"
      ]
     },
     "metadata": {
      "needs_background": "light"
     },
     "output_type": "display_data"
    },
    {
     "data": {
      "image/png": "[encoded data removed]",
      "text/plain": [
       "<Figure size 432x288 with 1 Axes>"
      ]
     },
     "metadata": {
      "needs_background": "light"
     },
     "output_type": "display_data"
    },
    {
     "data": {
      "image/png": "[encoded data removed]",
      "text/plain": [
       "<Figure size 432x288 with 1 Axes>"
      ]
     },
     "metadata": {
      "needs_background": "light"
     },
     "output_type": "display_data"
    },
    {
     "data": {
      "image/png": "[encoded data removed]",
      "text/plain": [
       "<Figure size 432x288 with 1 Axes>"
      ]
     },
     "metadata": {
      "needs_background": "light"
     },
     "output_type": "display_data"
    },
    {
     "data": {
      "image/png": "[encoded data removed]",
      "text/plain": [
       "<Figure size 432x288 with 1 Axes>"
      ]
     },
     "metadata": {
      "needs_background": "light"
     },
     "output_type": "display_data"
    },
    {
     "data": {
      "image/png": "[encoded data removed]",
      "text/plain": [
       "<Figure size 432x288 with 1 Axes>"
      ]
     },
     "metadata": {
      "needs_background": "light"
     },
     "output_type": "display_data"
    },
    {
     "data": {
      "image/png": "[encoded data removed]",
      "text/plain": [
       "<Figure size 432x288 with 1 Axes>"
      ]
     },
     "metadata": {
      "needs_background": "light"
     },
     "output_type": "display_data"
    },
    {
     "data": {
      "image/png": "[encoded data removed]",
      "text/plain": [
       "<Figure size 432x288 with 1 Axes>"
      ]
     },
     "metadata": {
      "needs_background": "light"
     },
     "output_type": "display_data"
    },
    {
     "data": {
      "image/png": "[encoded data removed]",
      "text/plain": [
       "<Figure size 432x288 with 1 Axes>"
      ]
     },
     "metadata": {
      "needs_background": "light"
     },
     "output_type": "display_data"
    },
    {
     "data": {
      "image/png": "[encoded data removed]",
      "text/plain": [
       "<Figure size 432x288 with 1 Axes>"
      ]
     },
     "metadata": {
      "needs_background": "light"
     },
     "output_type": "display_data"
    }
   ],
   "source": [
    "for i in num_cols:\n",
    "    plt.hist(ndf[i])\n",
    "    plt.title(i)\n",
    "    plt.show()"
   ]
  },
  {
   "cell_type": "markdown",
   "id": "aa522deb",
   "metadata": {},
   "source": [
    "To get a better idea of the columns with outliers, we recreate the histograms while removing the top 1% highest values to try to get a better representation. However we see that a large majority of users still fall into the one bin in each histogram. "
   ]
  },
  {
   "cell_type": "code",
   "execution_count": 36,
   "id": "de70c7a4",
   "metadata": {},
   "outputs": [
    {
     "data": {
      "image/png": "[encoded data removed]",
      "text/plain": [
       "<Figure size 432x288 with 1 Axes>"
      ]
     },
     "metadata": {
      "needs_background": "light"
     },
     "output_type": "display_data"
    },
    {
     "data": {
      "image/png": "[encoded data removed]",
      "text/plain": [
       "<Figure size 432x288 with 1 Axes>"
      ]
     },
     "metadata": {
      "needs_background": "light"
     },
     "output_type": "display_data"
    },
    {
     "data": {
      "image/png": "[encoded data removed]",
      "text/plain": [
       "<Figure size 432x288 with 1 Axes>"
      ]
     },
     "metadata": {
      "needs_background": "light"
     },
     "output_type": "display_data"
    },
    {
     "data": {
      "image/png": "[encoded data removed]",
      "text/plain": [
       "<Figure size 432x288 with 1 Axes>"
      ]
     },
     "metadata": {
      "needs_background": "light"
     },
     "output_type": "display_data"
    },
    {
     "data": {
      "image/png": "[encoded data removed]",
      "text/plain": [
       "<Figure size 432x288 with 1 Axes>"
      ]
     },
     "metadata": {
      "needs_background": "light"
     },
     "output_type": "display_data"
    },
    {
     "data": {
      "image/png": "[encoded data removed]",
      "text/plain": [
       "<Figure size 432x288 with 1 Axes>"
      ]
     },
     "metadata": {
      "needs_background": "light"
     },
     "output_type": "display_data"
    },
    {
     "data": {
      "image/png": "[encoded data removed]",
      "text/plain": [
       "<Figure size 432x288 with 1 Axes>"
      ]
     },
     "metadata": {
      "needs_background": "light"
     },
     "output_type": "display_data"
    },
    {
     "data": {
      "image/png": "[encoded data removed]",
      "text/plain": [
       "<Figure size 432x288 with 1 Axes>"
      ]
     },
     "metadata": {
      "needs_background": "light"
     },
     "output_type": "display_data"
    }
   ],
   "source": [
    "outlier_cols = ['socialNbFollowers', 'socialNbFollows', 'socialProductsLiked', 'productsListed', 'productsSold', 'productsPassRate', 'productsWished', 'productsBought']\n",
    "for i in outlier_cols:\n",
    "    plt.hist(ndf[i].sort_values(ascending = False)[990:], bins = 10)\n",
    "    plt.title(i)\n",
    "    plt.show()"
   ]
  },
  {
   "cell_type": "markdown",
   "id": "5f35345c",
   "metadata": {},
   "source": [
    "We also make bar plots for the categorical features to get a better idea of the data. Since we already visualized what countries most users are from and what language they speak, we will remove this column from the categorical columns. Considering many of the countries included have relatively few users compared to the countries with the most users, this information will likely just add noise to our analysis. We should be able to get similar insights utilizing the region and sub-region information as countries with less users will be grouped into categories with more weight. "
   ]
  },
  {
   "cell_type": "code",
   "execution_count": 37,
   "id": "4e519195",
   "metadata": {},
   "outputs": [],
   "source": [
    "cc_bars = cat_cols.copy()\n",
    "x = ['language']\n",
    "for i in x: \n",
    "    cc_bars.remove(i)"
   ]
  },
  {
   "cell_type": "markdown",
   "id": "884e28a5",
   "metadata": {},
   "source": [
    "From graphing the categorical columns, we can see that: "
   ]
  },
  {
   "cell_type": "markdown",
   "id": "ddc1f51f",
   "metadata": {},
   "source": [
    "-Similar as when looking at products bought/sold, women make up an overwhelming majority of the users, but only a small fraction of them are single"
   ]
  },
  {
   "cell_type": "markdown",
   "id": "5bcb3ac1",
   "metadata": {},
   "source": [
    "-More users have the iOS app than the Android app, which is slightly surprising given how popular Android phones are outside of the United States"
   ]
  },
  {
   "cell_type": "markdown",
   "id": "731d3a7b",
   "metadata": {},
   "source": [
    "-Most users have a profile picture added on their accounts, adding to the fact that users do in fact utilize the social features"
   ]
  },
  {
   "cell_type": "markdown",
   "id": "84ca4fea",
   "metadata": {},
   "source": [
    "-We can see that the most common regions/sub-regions are in Europe and the Americas; not surprising as we saw that the five most common countries were from those regions"
   ]
  },
  {
   "cell_type": "code",
   "execution_count": 38,
   "id": "8f8baff4",
   "metadata": {},
   "outputs": [
    {
     "data": {
      "image/png": "[encoded data removed]",
      "text/plain": [
       "<Figure size 720x360 with 1 Axes>"
      ]
     },
     "metadata": {
      "needs_background": "light"
     },
     "output_type": "display_data"
    },
    {
     "data": {
      "image/png": "[encoded data removed]",
      "text/plain": [
       "<Figure size 720x360 with 1 Axes>"
      ]
     },
     "metadata": {
      "needs_background": "light"
     },
     "output_type": "display_data"
    },
    {
     "data": {
      "image/png": "[encoded data removed]",
      "text/plain": [
       "<Figure size 720x360 with 1 Axes>"
      ]
     },
     "metadata": {
      "needs_background": "light"
     },
     "output_type": "display_data"
    },
    {
     "data": {
      "image/png": "[encoded data removed]",
      "text/plain": [
       "<Figure size 720x360 with 1 Axes>"
      ]
     },
     "metadata": {
      "needs_background": "light"
     },
     "output_type": "display_data"
    },
    {
     "data": {
      "image/png": "[encoded data removed]",
      "text/plain": [
       "<Figure size 720x360 with 1 Axes>"
      ]
     },
     "metadata": {
      "needs_background": "light"
     },
     "output_type": "display_data"
    },
    {
     "data": {
      "image/png": "[encoded data removed]",
      "text/plain": [
       "<Figure size 720x360 with 1 Axes>"
      ]
     },
     "metadata": {
      "needs_background": "light"
     },
     "output_type": "display_data"
    }
   ],
   "source": [
    "for i in cc_bars:\n",
    "    fig, at = plt.subplots(figsize=(10,5))\n",
    "    chart = sns.barplot(x = ndf[i].value_counts().index, y = ndf[i].value_counts(), ax = at)\n",
    "    chart.set_title(i)\n",
    "    chart.set_xticklabels(chart.get_xticklabels(), rotation = 75)\n",
    "    plt.show()"
   ]
  },
  {
   "cell_type": "markdown",
   "id": "65d29ae6",
   "metadata": {},
   "source": [
    "# Clustering"
   ]
  },
  {
   "cell_type": "markdown",
   "id": "213eee20",
   "metadata": {},
   "source": [
    "From here, we scale our numerical data in order for us to be able to utilize it in our model, and then we will joining it with our categorical data to create an updated data frame."
   ]
  },
  {
   "cell_type": "code",
   "execution_count": 39,
   "id": "49daa4d3",
   "metadata": {},
   "outputs": [
    {
     "data": {
      "text/html": [
       "<div>\n",
       "<style scoped>\n",
       "    .dataframe tbody tr th:only-of-type {\n",
       "        vertical-align: middle;\n",
       "    }\n",
       "\n",
       "    .dataframe tbody tr th {\n",
       "        vertical-align: top;\n",
       "    }\n",
       "\n",
       "    .dataframe thead th {\n",
       "        text-align: right;\n",
       "    }\n",
       "</style>\n",
       "<table border=\"1\" class=\"dataframe\">\n",
       "  <thead>\n",
       "    <tr style=\"text-align: right;\">\n",
       "      <th></th>\n",
       "      <th>socialNbFollowers</th>\n",
       "      <th>socialNbFollows</th>\n",
       "      <th>socialProductsLiked</th>\n",
       "      <th>productsListed</th>\n",
       "      <th>productsSold</th>\n",
       "      <th>productsPassRate</th>\n",
       "      <th>productsWished</th>\n",
       "      <th>productsBought</th>\n",
       "      <th>daysSinceLastLogin</th>\n",
       "      <th>seniorityAsYears</th>\n",
       "    </tr>\n",
       "  </thead>\n",
       "  <tbody>\n",
       "    <tr>\n",
       "      <th>0</th>\n",
       "      <td>36.978910</td>\n",
       "      <td>0.029794</td>\n",
       "      <td>0.400918</td>\n",
       "      <td>12.636416</td>\n",
       "      <td>81.751466</td>\n",
       "      <td>8.610021</td>\n",
       "      <td>4.066096</td>\n",
       "      <td>0.355044</td>\n",
       "      <td>-2.730613</td>\n",
       "      <td>0.789912</td>\n",
       "    </tr>\n",
       "    <tr>\n",
       "      <th>1</th>\n",
       "      <td>42.130334</td>\n",
       "      <td>-0.008056</td>\n",
       "      <td>-0.013373</td>\n",
       "      <td>9.222052</td>\n",
       "      <td>79.870807</td>\n",
       "      <td>11.551097</td>\n",
       "      <td>-0.062027</td>\n",
       "      <td>-0.073719</td>\n",
       "      <td>-2.725825</td>\n",
       "      <td>0.832660</td>\n",
       "    </tr>\n",
       "    <tr>\n",
       "      <th>2</th>\n",
       "      <td>34.403198</td>\n",
       "      <td>0.086569</td>\n",
       "      <td>0.307012</td>\n",
       "      <td>16.050780</td>\n",
       "      <td>76.579656</td>\n",
       "      <td>10.962882</td>\n",
       "      <td>0.334908</td>\n",
       "      <td>1.212571</td>\n",
       "      <td>-2.730613</td>\n",
       "      <td>0.832660</td>\n",
       "    </tr>\n",
       "    <tr>\n",
       "      <th>3</th>\n",
       "      <td>32.857771</td>\n",
       "      <td>0.029794</td>\n",
       "      <td>0.052914</td>\n",
       "      <td>59.461980</td>\n",
       "      <td>71.407846</td>\n",
       "      <td>10.727596</td>\n",
       "      <td>0.215828</td>\n",
       "      <td>-0.073719</td>\n",
       "      <td>-2.725825</td>\n",
       "      <td>0.789912</td>\n",
       "    </tr>\n",
       "    <tr>\n",
       "      <th>4</th>\n",
       "      <td>42.130334</td>\n",
       "      <td>-0.008056</td>\n",
       "      <td>-0.024420</td>\n",
       "      <td>12.148650</td>\n",
       "      <td>58.713403</td>\n",
       "      <td>11.668740</td>\n",
       "      <td>-0.062027</td>\n",
       "      <td>-0.073719</td>\n",
       "      <td>-2.677944</td>\n",
       "      <td>-1.240614</td>\n",
       "    </tr>\n",
       "  </tbody>\n",
       "</table>\n",
       "</div>"
      ],
      "text/plain": [
       "   socialNbFollowers  socialNbFollows  socialProductsLiked  productsListed  \\\n",
       "0          36.978910         0.029794             0.400918       12.636416   \n",
       "1          42.130334        -0.008056            -0.013373        9.222052   \n",
       "2          34.403198         0.086569             0.307012       16.050780   \n",
       "3          32.857771         0.029794             0.052914       59.461980   \n",
       "4          42.130334        -0.008056            -0.024420       12.148650   \n",
       "\n",
       "   productsSold  productsPassRate  productsWished  productsBought  \\\n",
       "0     81.751466          8.610021        4.066096        0.355044   \n",
       "1     79.870807         11.551097       -0.062027       -0.073719   \n",
       "2     76.579656         10.962882        0.334908        1.212571   \n",
       "3     71.407846         10.727596        0.215828       -0.073719   \n",
       "4     58.713403         11.668740       -0.062027       -0.073719   \n",
       "\n",
       "   daysSinceLastLogin  seniorityAsYears  \n",
       "0           -2.730613          0.789912  \n",
       "1           -2.725825          0.832660  \n",
       "2           -2.730613          0.832660  \n",
       "3           -2.725825          0.789912  \n",
       "4           -2.677944         -1.240614  "
      ]
     },
     "execution_count": 39,
     "metadata": {},
     "output_type": "execute_result"
    }
   ],
   "source": [
    "numeric = ndf[num_cols]\n",
    "numeric = StandardScaler().fit_transform(numeric.values)\n",
    "scaled_features = pd.DataFrame(numeric, columns = num_cols)\n",
    "scaled_features.head()"
   ]
  },
  {
   "cell_type": "code",
   "execution_count": 40,
   "id": "00c514d4",
   "metadata": {},
   "outputs": [
    {
     "data": {
      "text/html": [
       "<div>\n",
       "<style scoped>\n",
       "    .dataframe tbody tr th:only-of-type {\n",
       "        vertical-align: middle;\n",
       "    }\n",
       "\n",
       "    .dataframe tbody tr th {\n",
       "        vertical-align: top;\n",
       "    }\n",
       "\n",
       "    .dataframe thead th {\n",
       "        text-align: right;\n",
       "    }\n",
       "</style>\n",
       "<table border=\"1\" class=\"dataframe\">\n",
       "  <thead>\n",
       "    <tr style=\"text-align: right;\">\n",
       "      <th></th>\n",
       "      <th>socialNbFollowers</th>\n",
       "      <th>socialNbFollows</th>\n",
       "      <th>socialProductsLiked</th>\n",
       "      <th>productsListed</th>\n",
       "      <th>productsSold</th>\n",
       "      <th>productsPassRate</th>\n",
       "      <th>productsWished</th>\n",
       "      <th>productsBought</th>\n",
       "      <th>daysSinceLastLogin</th>\n",
       "      <th>seniorityAsYears</th>\n",
       "      <th>...</th>\n",
       "      <th>sub-region_Northern Africa</th>\n",
       "      <th>sub-region_Northern America</th>\n",
       "      <th>sub-region_Northern Europe</th>\n",
       "      <th>sub-region_Polynesia</th>\n",
       "      <th>sub-region_South-eastern Asia</th>\n",
       "      <th>sub-region_Southern Asia</th>\n",
       "      <th>sub-region_Southern Europe</th>\n",
       "      <th>sub-region_Sub-Saharan Africa</th>\n",
       "      <th>sub-region_Western Asia</th>\n",
       "      <th>sub-region_Western Europe</th>\n",
       "    </tr>\n",
       "  </thead>\n",
       "  <tbody>\n",
       "    <tr>\n",
       "      <th>0</th>\n",
       "      <td>36.978910</td>\n",
       "      <td>0.029794</td>\n",
       "      <td>0.400918</td>\n",
       "      <td>12.636416</td>\n",
       "      <td>81.751466</td>\n",
       "      <td>8.610021</td>\n",
       "      <td>4.066096</td>\n",
       "      <td>0.355044</td>\n",
       "      <td>-2.730613</td>\n",
       "      <td>0.789912</td>\n",
       "      <td>...</td>\n",
       "      <td>0</td>\n",
       "      <td>0</td>\n",
       "      <td>1</td>\n",
       "      <td>0</td>\n",
       "      <td>0</td>\n",
       "      <td>0</td>\n",
       "      <td>0</td>\n",
       "      <td>0</td>\n",
       "      <td>0</td>\n",
       "      <td>0</td>\n",
       "    </tr>\n",
       "    <tr>\n",
       "      <th>1</th>\n",
       "      <td>42.130334</td>\n",
       "      <td>-0.008056</td>\n",
       "      <td>-0.013373</td>\n",
       "      <td>9.222052</td>\n",
       "      <td>79.870807</td>\n",
       "      <td>11.551097</td>\n",
       "      <td>-0.062027</td>\n",
       "      <td>-0.073719</td>\n",
       "      <td>-2.725825</td>\n",
       "      <td>0.832660</td>\n",
       "      <td>...</td>\n",
       "      <td>0</td>\n",
       "      <td>0</td>\n",
       "      <td>0</td>\n",
       "      <td>0</td>\n",
       "      <td>0</td>\n",
       "      <td>0</td>\n",
       "      <td>0</td>\n",
       "      <td>0</td>\n",
       "      <td>0</td>\n",
       "      <td>1</td>\n",
       "    </tr>\n",
       "    <tr>\n",
       "      <th>2</th>\n",
       "      <td>34.403198</td>\n",
       "      <td>0.086569</td>\n",
       "      <td>0.307012</td>\n",
       "      <td>16.050780</td>\n",
       "      <td>76.579656</td>\n",
       "      <td>10.962882</td>\n",
       "      <td>0.334908</td>\n",
       "      <td>1.212571</td>\n",
       "      <td>-2.730613</td>\n",
       "      <td>0.832660</td>\n",
       "      <td>...</td>\n",
       "      <td>0</td>\n",
       "      <td>0</td>\n",
       "      <td>0</td>\n",
       "      <td>0</td>\n",
       "      <td>0</td>\n",
       "      <td>0</td>\n",
       "      <td>0</td>\n",
       "      <td>0</td>\n",
       "      <td>0</td>\n",
       "      <td>1</td>\n",
       "    </tr>\n",
       "    <tr>\n",
       "      <th>3</th>\n",
       "      <td>32.857771</td>\n",
       "      <td>0.029794</td>\n",
       "      <td>0.052914</td>\n",
       "      <td>59.461980</td>\n",
       "      <td>71.407846</td>\n",
       "      <td>10.727596</td>\n",
       "      <td>0.215828</td>\n",
       "      <td>-0.073719</td>\n",
       "      <td>-2.725825</td>\n",
       "      <td>0.789912</td>\n",
       "      <td>...</td>\n",
       "      <td>0</td>\n",
       "      <td>1</td>\n",
       "      <td>0</td>\n",
       "      <td>0</td>\n",
       "      <td>0</td>\n",
       "      <td>0</td>\n",
       "      <td>0</td>\n",
       "      <td>0</td>\n",
       "      <td>0</td>\n",
       "      <td>0</td>\n",
       "    </tr>\n",
       "    <tr>\n",
       "      <th>4</th>\n",
       "      <td>42.130334</td>\n",
       "      <td>-0.008056</td>\n",
       "      <td>-0.024420</td>\n",
       "      <td>12.148650</td>\n",
       "      <td>58.713403</td>\n",
       "      <td>11.668740</td>\n",
       "      <td>-0.062027</td>\n",
       "      <td>-0.073719</td>\n",
       "      <td>-2.677944</td>\n",
       "      <td>-1.240614</td>\n",
       "      <td>...</td>\n",
       "      <td>0</td>\n",
       "      <td>1</td>\n",
       "      <td>0</td>\n",
       "      <td>0</td>\n",
       "      <td>0</td>\n",
       "      <td>0</td>\n",
       "      <td>0</td>\n",
       "      <td>0</td>\n",
       "      <td>0</td>\n",
       "      <td>0</td>\n",
       "    </tr>\n",
       "    <tr>\n",
       "      <th>...</th>\n",
       "      <td>...</td>\n",
       "      <td>...</td>\n",
       "      <td>...</td>\n",
       "      <td>...</td>\n",
       "      <td>...</td>\n",
       "      <td>...</td>\n",
       "      <td>...</td>\n",
       "      <td>...</td>\n",
       "      <td>...</td>\n",
       "      <td>...</td>\n",
       "      <td>...</td>\n",
       "      <td>...</td>\n",
       "      <td>...</td>\n",
       "      <td>...</td>\n",
       "      <td>...</td>\n",
       "      <td>...</td>\n",
       "      <td>...</td>\n",
       "      <td>...</td>\n",
       "      <td>...</td>\n",
       "      <td>...</td>\n",
       "      <td>...</td>\n",
       "    </tr>\n",
       "    <tr>\n",
       "      <th>98905</th>\n",
       "      <td>-0.111343</td>\n",
       "      <td>-0.008056</td>\n",
       "      <td>-0.024420</td>\n",
       "      <td>-0.045507</td>\n",
       "      <td>-0.057165</td>\n",
       "      <td>-0.095565</td>\n",
       "      <td>-0.062027</td>\n",
       "      <td>-0.073719</td>\n",
       "      <td>0.606680</td>\n",
       "      <td>0.832660</td>\n",
       "      <td>...</td>\n",
       "      <td>0</td>\n",
       "      <td>1</td>\n",
       "      <td>0</td>\n",
       "      <td>0</td>\n",
       "      <td>0</td>\n",
       "      <td>0</td>\n",
       "      <td>0</td>\n",
       "      <td>0</td>\n",
       "      <td>0</td>\n",
       "      <td>0</td>\n",
       "    </tr>\n",
       "    <tr>\n",
       "      <th>98906</th>\n",
       "      <td>-0.111343</td>\n",
       "      <td>-0.008056</td>\n",
       "      <td>-0.024420</td>\n",
       "      <td>-0.045507</td>\n",
       "      <td>-0.057165</td>\n",
       "      <td>-0.095565</td>\n",
       "      <td>-0.062027</td>\n",
       "      <td>-0.073719</td>\n",
       "      <td>0.544435</td>\n",
       "      <td>0.832660</td>\n",
       "      <td>...</td>\n",
       "      <td>0</td>\n",
       "      <td>0</td>\n",
       "      <td>1</td>\n",
       "      <td>0</td>\n",
       "      <td>0</td>\n",
       "      <td>0</td>\n",
       "      <td>0</td>\n",
       "      <td>0</td>\n",
       "      <td>0</td>\n",
       "      <td>0</td>\n",
       "    </tr>\n",
       "    <tr>\n",
       "      <th>98907</th>\n",
       "      <td>-0.111343</td>\n",
       "      <td>-0.008056</td>\n",
       "      <td>-0.024420</td>\n",
       "      <td>-0.045507</td>\n",
       "      <td>-0.057165</td>\n",
       "      <td>-0.095565</td>\n",
       "      <td>-0.062027</td>\n",
       "      <td>-0.073719</td>\n",
       "      <td>-0.293479</td>\n",
       "      <td>0.832660</td>\n",
       "      <td>...</td>\n",
       "      <td>0</td>\n",
       "      <td>1</td>\n",
       "      <td>0</td>\n",
       "      <td>0</td>\n",
       "      <td>0</td>\n",
       "      <td>0</td>\n",
       "      <td>0</td>\n",
       "      <td>0</td>\n",
       "      <td>0</td>\n",
       "      <td>0</td>\n",
       "    </tr>\n",
       "    <tr>\n",
       "      <th>98908</th>\n",
       "      <td>-0.111343</td>\n",
       "      <td>-0.008056</td>\n",
       "      <td>-0.024420</td>\n",
       "      <td>-0.045507</td>\n",
       "      <td>-0.057165</td>\n",
       "      <td>-0.095565</td>\n",
       "      <td>-0.062027</td>\n",
       "      <td>-0.073719</td>\n",
       "      <td>-1.504864</td>\n",
       "      <td>0.832660</td>\n",
       "      <td>...</td>\n",
       "      <td>0</td>\n",
       "      <td>1</td>\n",
       "      <td>0</td>\n",
       "      <td>0</td>\n",
       "      <td>0</td>\n",
       "      <td>0</td>\n",
       "      <td>0</td>\n",
       "      <td>0</td>\n",
       "      <td>0</td>\n",
       "      <td>0</td>\n",
       "    </tr>\n",
       "    <tr>\n",
       "      <th>98909</th>\n",
       "      <td>-0.111343</td>\n",
       "      <td>-0.008056</td>\n",
       "      <td>-0.024420</td>\n",
       "      <td>-0.045507</td>\n",
       "      <td>-0.057165</td>\n",
       "      <td>-0.095565</td>\n",
       "      <td>-0.062027</td>\n",
       "      <td>-0.073719</td>\n",
       "      <td>-0.097168</td>\n",
       "      <td>0.832660</td>\n",
       "      <td>...</td>\n",
       "      <td>0</td>\n",
       "      <td>0</td>\n",
       "      <td>0</td>\n",
       "      <td>0</td>\n",
       "      <td>0</td>\n",
       "      <td>0</td>\n",
       "      <td>0</td>\n",
       "      <td>0</td>\n",
       "      <td>0</td>\n",
       "      <td>1</td>\n",
       "    </tr>\n",
       "  </tbody>\n",
       "</table>\n",
       "<p>98910 rows × 38 columns</p>\n",
       "</div>"
      ],
      "text/plain": [
       "       socialNbFollowers  socialNbFollows  socialProductsLiked  \\\n",
       "0              36.978910         0.029794             0.400918   \n",
       "1              42.130334        -0.008056            -0.013373   \n",
       "2              34.403198         0.086569             0.307012   \n",
       "3              32.857771         0.029794             0.052914   \n",
       "4              42.130334        -0.008056            -0.024420   \n",
       "...                  ...              ...                  ...   \n",
       "98905          -0.111343        -0.008056            -0.024420   \n",
       "98906          -0.111343        -0.008056            -0.024420   \n",
       "98907          -0.111343        -0.008056            -0.024420   \n",
       "98908          -0.111343        -0.008056            -0.024420   \n",
       "98909          -0.111343        -0.008056            -0.024420   \n",
       "\n",
       "       productsListed  productsSold  productsPassRate  productsWished  \\\n",
       "0           12.636416     81.751466          8.610021        4.066096   \n",
       "1            9.222052     79.870807         11.551097       -0.062027   \n",
       "2           16.050780     76.579656         10.962882        0.334908   \n",
       "3           59.461980     71.407846         10.727596        0.215828   \n",
       "4           12.148650     58.713403         11.668740       -0.062027   \n",
       "...               ...           ...               ...             ...   \n",
       "98905       -0.045507     -0.057165         -0.095565       -0.062027   \n",
       "98906       -0.045507     -0.057165         -0.095565       -0.062027   \n",
       "98907       -0.045507     -0.057165         -0.095565       -0.062027   \n",
       "98908       -0.045507     -0.057165         -0.095565       -0.062027   \n",
       "98909       -0.045507     -0.057165         -0.095565       -0.062027   \n",
       "\n",
       "       productsBought  daysSinceLastLogin  seniorityAsYears  ...  \\\n",
       "0            0.355044           -2.730613          0.789912  ...   \n",
       "1           -0.073719           -2.725825          0.832660  ...   \n",
       "2            1.212571           -2.730613          0.832660  ...   \n",
       "3           -0.073719           -2.725825          0.789912  ...   \n",
       "4           -0.073719           -2.677944         -1.240614  ...   \n",
       "...               ...                 ...               ...  ...   \n",
       "98905       -0.073719            0.606680          0.832660  ...   \n",
       "98906       -0.073719            0.544435          0.832660  ...   \n",
       "98907       -0.073719           -0.293479          0.832660  ...   \n",
       "98908       -0.073719           -1.504864          0.832660  ...   \n",
       "98909       -0.073719           -0.097168          0.832660  ...   \n",
       "\n",
       "       sub-region_Northern Africa  sub-region_Northern America  \\\n",
       "0                               0                            0   \n",
       "1                               0                            0   \n",
       "2                               0                            0   \n",
       "3                               0                            1   \n",
       "4                               0                            1   \n",
       "...                           ...                          ...   \n",
       "98905                           0                            1   \n",
       "98906                           0                            0   \n",
       "98907                           0                            1   \n",
       "98908                           0                            1   \n",
       "98909                           0                            0   \n",
       "\n",
       "       sub-region_Northern Europe  sub-region_Polynesia  \\\n",
       "0                               1                     0   \n",
       "1                               0                     0   \n",
       "2                               0                     0   \n",
       "3                               0                     0   \n",
       "4                               0                     0   \n",
       "...                           ...                   ...   \n",
       "98905                           0                     0   \n",
       "98906                           1                     0   \n",
       "98907                           0                     0   \n",
       "98908                           0                     0   \n",
       "98909                           0                     0   \n",
       "\n",
       "       sub-region_South-eastern Asia  sub-region_Southern Asia  \\\n",
       "0                                  0                         0   \n",
       "1                                  0                         0   \n",
       "2                                  0                         0   \n",
       "3                                  0                         0   \n",
       "4                                  0                         0   \n",
       "...                              ...                       ...   \n",
       "98905                              0                         0   \n",
       "98906                              0                         0   \n",
       "98907                              0                         0   \n",
       "98908                              0                         0   \n",
       "98909                              0                         0   \n",
       "\n",
       "       sub-region_Southern Europe  sub-region_Sub-Saharan Africa  \\\n",
       "0                               0                              0   \n",
       "1                               0                              0   \n",
       "2                               0                              0   \n",
       "3                               0                              0   \n",
       "4                               0                              0   \n",
       "...                           ...                            ...   \n",
       "98905                           0                              0   \n",
       "98906                           0                              0   \n",
       "98907                           0                              0   \n",
       "98908                           0                              0   \n",
       "98909                           0                              0   \n",
       "\n",
       "       sub-region_Western Asia  sub-region_Western Europe  \n",
       "0                            0                          0  \n",
       "1                            0                          1  \n",
       "2                            0                          1  \n",
       "3                            0                          0  \n",
       "4                            0                          0  \n",
       "...                        ...                        ...  \n",
       "98905                        0                          0  \n",
       "98906                        0                          0  \n",
       "98907                        0                          0  \n",
       "98908                        0                          0  \n",
       "98909                        0                          1  \n",
       "\n",
       "[98910 rows x 38 columns]"
      ]
     },
     "execution_count": 40,
     "metadata": {},
     "output_type": "execute_result"
    }
   ],
   "source": [
    "scaled_ndf = scaled_features.join(ndf[cat_cols])\n",
    "sdndf = pd.get_dummies(scaled_ndf, prefix = None, prefix_sep='_', dummy_na = False, columns = None,\n",
    "                       sparse = False, drop_first = True, dtype = None)\n",
    "sdndf"
   ]
  },
  {
   "cell_type": "code",
   "execution_count": 41,
   "id": "9e933b22",
   "metadata": {},
   "outputs": [
    {
     "name": "stdout",
     "output_type": "stream",
     "text": [
      "0.2553933500898354\n"
     ]
    }
   ],
   "source": [
    "kmeans = KMeans(n_clusters = 7, init='k-means++')\n",
    "kmeans.fit(sdndf)\n",
    "\n",
    "print(silhouette_score(sdndf, kmeans.labels_, metric='euclidean'))"
   ]
  },
  {
   "cell_type": "code",
   "execution_count": 42,
   "id": "d21b4f59",
   "metadata": {},
   "outputs": [],
   "source": [
    "pca = PCA(n_components = 0.75)\n",
    "principalComponents = pca.fit_transform(sdndf)"
   ]
  },
  {
   "cell_type": "code",
   "execution_count": 43,
   "id": "4e387426",
   "metadata": {
    "scrolled": true
   },
   "outputs": [
    {
     "data": {
      "image/png": "[encoded data removed]",
      "text/plain": [
       "<Figure size 432x288 with 1 Axes>"
      ]
     },
     "metadata": {
      "needs_background": "light"
     },
     "output_type": "display_data"
    }
   ],
   "source": [
    "features = range(pca.n_components_)\n",
    "plt.bar(features, pca.explained_variance_ratio_, color='black')\n",
    "plt.plot(np.cumsum(pca.explained_variance_ratio_))\n",
    "plt.xlabel('PCA Features')\n",
    "plt.ylabel('Variance %')\n",
    "plt.xticks(features)\n",
    "plt.grid(visible=True)\n",
    "plt.show()"
   ]
  },
  {
   "cell_type": "code",
   "execution_count": 44,
   "id": "0b79bcdd",
   "metadata": {},
   "outputs": [],
   "source": [
    "PCs = pd.DataFrame(principalComponents)"
   ]
  },
  {
   "cell_type": "code",
   "execution_count": 45,
   "id": "f2678fa4",
   "metadata": {},
   "outputs": [
    {
     "data": {
      "text/plain": [
       "(98910, 7)"
      ]
     },
     "execution_count": 45,
     "metadata": {},
     "output_type": "execute_result"
    }
   ],
   "source": [
    "PCs.shape"
   ]
  },
  {
   "cell_type": "code",
   "execution_count": 46,
   "id": "3dccc71d",
   "metadata": {},
   "outputs": [
    {
     "data": {
      "text/plain": [
       "Text(0, 0.5, 'PCA 2')"
      ]
     },
     "execution_count": 46,
     "metadata": {},
     "output_type": "execute_result"
    },
    {
     "data": {
      "image/png": "[encoded data removed]",
      "text/plain": [
       "<Figure size 432x288 with 1 Axes>"
      ]
     },
     "metadata": {
      "needs_background": "light"
     },
     "output_type": "display_data"
    }
   ],
   "source": [
    "plt.scatter(PCs[0], PCs[1], alpha=.1, color='black')\n",
    "plt.xlabel('PCA 1')\n",
    "plt.ylabel('PCA 2')"
   ]
  },
  {
   "cell_type": "code",
   "execution_count": 47,
   "id": "308306f0",
   "metadata": {},
   "outputs": [],
   "source": [
    "SSE = []\n",
    "\n",
    "for cluster in range(1,30):\n",
    "    kmeans = KMeans(n_clusters = cluster, init='k-means++')\n",
    "    kmeans.fit(PCs)\n",
    "    SSE.append(kmeans.inertia_)"
   ]
  },
  {
   "cell_type": "code",
   "execution_count": 48,
   "id": "baee3cbb",
   "metadata": {},
   "outputs": [
    {
     "data": {
      "text/plain": [
       "Text(0, 0.5, 'Inertia')"
      ]
     },
     "execution_count": 48,
     "metadata": {},
     "output_type": "execute_result"
    },
    {
     "data": {
      "image/png": "[encoded data removed]",
      "text/plain": [
       "<Figure size 720x432 with 1 Axes>"
      ]
     },
     "metadata": {
      "needs_background": "light"
     },
     "output_type": "display_data"
    }
   ],
   "source": [
    "# converting the results into a dataframe and plotting them\n",
    "\n",
    "frame = pd.DataFrame({'Cluster':range(1,30), 'SSE':SSE})\n",
    "plt.figure(figsize=(10,6))\n",
    "plt.plot(frame['Cluster'], frame['SSE'], marker='o')\n",
    "plt.xlabel('Number of clusters')\n",
    "plt.ylabel('Inertia')"
   ]
  },
  {
   "cell_type": "code",
   "execution_count": null,
   "id": "15057046",
   "metadata": {},
   "outputs": [],
   "source": []
  }
 ],
 "metadata": {
  "kernelspec": {
   "display_name": "Python 3 (ipykernel)",
   "language": "python",
   "name": "python3"
  },
  "language_info": {
   "codemirror_mode": {
    "name": "ipython",
    "version": 3
   },
   "file_extension": ".py",
   "mimetype": "text/x-python",
   "name": "python",
   "nbconvert_exporter": "python",
   "pygments_lexer": "ipython3",
   "version": "3.7.11"
  }
 },
 "nbformat": 4,
 "nbformat_minor": 5
}
